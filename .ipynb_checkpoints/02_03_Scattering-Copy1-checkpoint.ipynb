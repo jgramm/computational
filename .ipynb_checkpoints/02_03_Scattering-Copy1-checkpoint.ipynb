{
 "cells": [
  {
   "cell_type": "markdown",
   "metadata": {},
   "source": [
    "Scattering by a central potential\n",
    "---------------------------------\n",
    "\n",
    "In this section, we will investigate the classical scattering of a\n",
    "particle of mass $m$ by a central potential. In a scattering event, the\n",
    "particle, with initial kinetic energy $E$ and impact parameter $b$\n",
    "approaches the potential from a large distance. It is deflected during\n",
    "its passage near the force center and eventually emerges with the same\n",
    "energy, but moving at an angle $\\Theta$ with respect to the original\n",
    "direction. This problem is very similar in many aspects to the orbital\n",
    "motion, but in this case the potential is repulsive, and it is not\n",
    "necessarily a function of the inverse square of the distance. The energy\n",
    "and momentum are conserved, and the trajectory lies in the plane.\n",
    "\n",
    "Our basic interest is on the deflection function $\\Theta (b)$, giving\n",
    "the final scattering angle $\\Theta$ as a function of the impact\n",
    "parameter. This function also depends upon the incident energy. The\n",
    "differential cross section for scattering at an angle $\\Theta$,\n",
    "$d\\sigma \n",
    "/ d\\Omega$ is an experimental observable that is related to the\n",
    "deflection function by\n",
    "\n",
    "$$\\frac{d\\sigma}{d\\Omega}=\\frac{b}{\\sin{\\Theta}}\\left|\\frac{db}{d\\Theta}\\right|.\n",
    "$$\n",
    "\n",
    "Thus, if $d\\Theta /db$ can be computed, the cross section is known.\n",
    "\n",
    "Expressions for the deflection function can be found analytically only\n",
    "for a few potentials, so that numerical methods usually must be\n",
    "employed. There are some simplification that can me made using the fact\n",
    "that the angular momentum is conserved, which connects the angular and\n",
    "the radial motion, making the problem one-dimensional. However, in this\n",
    "section we are going to use the tools learned in the previous sections,\n",
    "and solve the four first-order differential equations for the two\n",
    "coordinates and their velocities in the $xy$ plane.\n",
    "\n",
    "![scattering](figures/scattering.png)\n",
    "#### Quantities involved in the scattering of a particle by a central potential.\n",
    "\n",
    "In the following we are going to consider a Lennard-Jones potential:\n",
    "$$V(r)=4V_0[(\\frac{a}{r})^{12}-(\\frac{a}{r})^6],\n",
    "$$ The potential is attractive for long distances, and\n",
    "strongly repulsive approaching the core (see Fig. \\[lennard-jones\\]),\n",
    "with a minimum occurring at $r_{min}=2^{(1/6)}a$ with a depth $V_0$.\n",
    "\n",
    "![lennard](figures/lennard.png)\n",
    "#### The Lennard-Jones potential\n",
    "\n",
    "### Exercise 2.3 \n",
    "\n",
    "1.  Before beginning any numerical computation, it is important to have\n",
    "    some idea of what the results should look like. Sketch what you\n",
    "    think the deflection function should look like at relatively low\n",
    "    energies, $E \\leq V_0$, where the the peripheral collisions at large\n",
    "    $b\\leq \n",
    "    r_{max}$ will take place in a predominantly attractive potential and\n",
    "    the more central collisions will “bounce” against the\n",
    "    repulsive core. What happens at much higher energies $E\\gg V_0$,\n",
    "    where the attractive pocket in $V$ can be neglected? Note that the\n",
    "    values of $b$ where the deflection function has a maximum or a\n",
    "    minimum, Eq. (\\[cross\\]) shows that the cross section should be\n",
    "    infinite,as occurs in the rainbow formed when light scatters from\n",
    "    water drops.\n",
    "\n",
    "2.  Write a program that calculates, for a given kinetic energy $E$, the\n",
    "    deflection function solving the equations of motion at a number of\n",
    "    equally spaced $b$ values between 0 and $r_{max}$.\n",
    "\n",
    "3.  Use your program to calculate the deflection function for scattering\n",
    "    from a Lennard-Jones potential at selected values of $E$ ranging\n",
    "    from $0.1V_0$ to $100V_0$. Reconcile your answers in step 1) with\n",
    "    the results obtained. Calculate the differential cross sections a\n",
    "    function of $\\Theta$ at these energies.\n",
    "\n",
    "4.  If your program is working correctly you should observe for energies\n",
    "    $E\\leq V_0$ a singularity in the deflection function where $\\Theta$\n",
    "    appear to approach $-\\infty$ at some critical value of $b$,\n",
    "    $b_{crit}$, that depends on $E$. This singularity, which disappears\n",
    "    when $E$ becomes larger that about $V_0$ is characteristic of\n",
    "    “orbiting”, and the scattering angle becomes\n",
    "    logarithmically infinite. What happens is that the particle spends a\n",
    "    very long time spiralling around the center. Calculate some\n",
    "    trajectories around this point and convince yourself that this is\n",
    "    precisely what’s happening. Determine the maximum energy for which\n",
    "    the Lennard-Jones potential exhibits orbiting by solving the correct\n",
    "    set of equations involving $V$ and its derivatives.\n",
    "\n",
    "<!--\n",
    "Trajectories in phase space and integrability\n",
    "---------------------------------------------\n",
    "\n",
    "Let’s “complicate” things a little bit. We know that all the problems\n",
    "described above can be expressed elegantly using the Hamiltonian\n",
    "formalism. Let us consider a particle of mass $m$ moving in a potential\n",
    "$V$ in two dimensions ans assume that $V$ is such that the particle\n",
    "remains confined if the energy is low enough. The momenta conjugate to\n",
    "the two coordinates $(x,y)$ area $(p_x,p_y)$. The Hamiltonian (the\n",
    "energy!) takes the form $$H=\\frac{1}{2}(p_x^2+p_y^2)+V(x,y).\n",
    "$$ Given any particular initial values of the coordinates\n",
    "and momenta, the particle’s trajectory is specifies by their time\n",
    "evolution, that is governed by four first-order differential equations\n",
    "(Hamilton’s equations): $$\\begin{eqnarray}\n",
    "\\frac{dx}{dt} = \\frac{\\partial H}{\\partial \n",
    "p_x} = p_x &,& \\frac{dy}{dt} = \\frac{\\partial H}{\\partial p_y}=p_y; \\\\\n",
    "\\frac{dp_x}{dt}=-\\frac{\\partial H}{\\partial x} = -\\frac{\\partial \n",
    "V}{\\partial x} &,&\n",
    "\\frac{dp_y}{dt}=-\\frac{\\partial H}{\\partial y} = -\\frac{\\partial \n",
    "V}{\\partial y}.\\end{eqnarray}$$ For any $V$, these equations conserve the\n",
    "energy $E$ so that the constraint $$H(x,y,p_x,p_y,t)=E$$ restricts the\n",
    "trajectory to a three-dimensional manifold embedded in the four\n",
    "dimensional phase space.\n",
    "\n",
    "The Hamiltonian is said to be “integrable” when there is a second\n",
    "function of the coordinates and momenta that is also a constant of\n",
    "motion; the motion is thus constrained to a two-dimensional manifold in\n",
    "phase space. Two familiar kinds of integrable systems are\n",
    "<span>*separable*</span> and <span>*central*</span> potentials.\n",
    "\n",
    "In the separable case $$V(x,y)=V_x(x)+V_y(y)$$ where $V_{x,y}$ are\n",
    "independent functions of only one variable, so that the Hamiltonian\n",
    "separates in two parts and each coordinate can be solved independently,\n",
    "$$H=H_x+H_y; H_{x,y}=\\frac{1}{2}p_{x,y}^2+V_{x,y}.$$ The motions of $x$\n",
    "and $y$ are therefore decoupled form each other and each of the\n",
    "Hamiltonians is separately a constant of motion.\n",
    "\n",
    "In the case of a central potential, $$V(x,y)=V(r); r=\\sqrt{x^2+y^2},$$\n",
    "so that the angular momentum $L_z=xp_y-yp_x$ is the second constant of\n",
    "motion and the Hamiltonian can be written as\n",
    "$$H=\\frac{1}{2}p_r^2+V(r)+\\frac{p_{\\theta}^2}{2r^2}.$$ where $p_r$ is\n",
    "the momentum conjugate to $r$. The additional constraint on the\n",
    "trajectory makes the system tractable reducing the problem to les\n",
    "variables. All the familiar analytically soluble problems in classical\n",
    "mechanics are those that are integrable. An analysis of phase space\n",
    "suggests a way to detect integrability. Consider for instance the case\n",
    "of a separable potential, Because the motions of each of the two\n",
    "coordinates are independent, plots of the trajectory in $(x,p_x)$ and\n",
    "$(y,p_y)$ planes should look as in Fig.\\[trajectory\\]. Here, we assumed\n",
    "that each potential has a minimum value of 0 at particular values of $x$\n",
    "and $y$ respectively. The particle moves on a closed contour in each of\n",
    "these two-dimensional projections of the four-dimensional phase space,\n",
    "each of them looking as a on-dimensional motion. The areas of these\n",
    "contours is associated to the total energy ($E_x$ and $E_y$). Since the\n",
    "total energy must be conserved, as one varies the initial conditions,\n",
    "one contour shrinks, and the other grows. In each plane there is a\n",
    "limiting contour that is approached when all the energy is in one\n",
    "coordinate. The fact that these contours are closed signals the\n",
    "integrability of the system.\n",
    "\n",
    "How can we obtain this information from the trajectory alone? Supouse\n",
    "that at every time we observe one of the coordinates, say $x$, pass\n",
    "through zero, we plot the location of the particle in the $(y,p_y)$\n",
    "plane. If the periods of the $x$ and $y$ motions are incommensurate\n",
    "(<span>*i.e.*</span> their ratio is an irrational number), then, as the\n",
    "trajectory proceeds, these observations will trace out the full\n",
    "$(y,p_y)$ contour; if the periods are commensurate (<span>*i.e.*</span>\n",
    "a rational ratio), then a series of discrete points around the contour\n",
    "will result.\n",
    "-->\n",
    "\n",
    "\n",
    "\n"
   ]
  },
  {
   "cell_type": "code",
   "execution_count": 1,
   "metadata": {
    "collapsed": false
   },
   "outputs": [],
   "source": [
    "import math\n",
    "class particle(object):\n",
    "\n",
    "    dt = .001\n",
    "    dt2half = dt * dt / 2.\n",
    "    def __init__(self, mass=1., x=0., y=0., vx=0., vy=0., dt=.001):\n",
    "        self.mass = mass\n",
    "        self.x = x\n",
    "        self.y = y\n",
    "        self.vx = vx\n",
    "        self.vy = vy\n",
    "        self.ax = 0.\n",
    "        self.ay = 0.\n",
    "        self.dt = dt\n",
    "        self.dt2half = self.dt * self.dt / 2.\n",
    "        \n",
    "        \n",
    "    def setScatParams(self, E, b, x=-2):\n",
    "        \"\"\" Initializes particle parameters for scattering \n",
    "            about origin \"\"\"\n",
    "        self.y = b\n",
    "        self.x = x\n",
    "        self.vx = math.sqrt(2 * self.mass * E)\n",
    "    \n",
    "    def accel(self):\n",
    "        self.vx = self.vx + self.ax*self.dt\n",
    "        self.vy = self.vy + self.ay*self.dt\n",
    "        \n",
    "    def move(self):\n",
    "        self.x = self.x + self.vx*self.dt + self.ax*self.dt2half\n",
    "        self.y = self.y + self.vy*self.dt + self.ay*self.dt2half       \n",
    "    \n",
    "    def getForce(self):\n",
    "        \"\"\" Computes force from lennard jones potential\n",
    "            assumes scatterer is at origin\"\"\"\n",
    "        r2 = self.x**2 + self.y**2\n",
    "        r = math.sqrt(r2)\n",
    "        r6 = r2**3\n",
    "        r12 = r6**2\n",
    "        f = - 2 *(2./(r12*r2) - 1./(r6*r2))\n",
    "        fx = self.x * f \n",
    "        fy = self.y * f\n",
    "        self.ax = fx / self.mass\n",
    "        self.ay = fy / self.mass\n",
    "        \n",
    "    def verlet(self):\n",
    "        self.move()\n",
    "        self.accel()\n",
    "        self.getForce()\n",
    "        self.accel()\n",
    "        "
   ]
  },
  {
   "cell_type": "code",
   "execution_count": 2,
   "metadata": {
    "collapsed": false
   },
   "outputs": [],
   "source": [
    "def scatter(p, E, b):\n",
    "    \"\"\" scatter takes in an energy and the scattering parameter, b,\n",
    "        and simulates the scattering giving the final scattered \n",
    "        angle as an output, along with all x,y coords \"\"\"\n",
    "    \n",
    "    xs = []\n",
    "    ys = []\n",
    "    \n",
    "    # set scattering parameters for particle\n",
    "    p.setScatParams(E, b)\n",
    "    \n",
    "    p.getForce()\n",
    "    xs.append(p.x)\n",
    "    ys.append(p.y)\n",
    "    \n",
    "    # for some number of steps, run verlet and break under certain conditions\n",
    "    for i in range(100000):\n",
    "        p.verlet()\n",
    "        \n",
    "        # interactinon only really takes place over a small scale\n",
    "        # so we can cut it off early\n",
    "        if(abs(p.x) > 10 or abs(p.y) > 50):\n",
    "            break\n",
    "            \n",
    "        xs.append(p.x)\n",
    "        ys.append(p.y)\n",
    "      \n",
    "    theta = math.atan(-p.y / p.x)\n",
    "    \n",
    "    return (theta, xs, ys)\n",
    "    "
   ]
  },
  {
   "cell_type": "code",
   "execution_count": 3,
   "metadata": {
    "collapsed": false
   },
   "outputs": [],
   "source": [
    "# ds/dO = b / sin(theta) | db / dtheta |\n",
    "\n",
    "def dsdo2(E, bs, thetas):\n",
    "    \"\"\" Takes in theta(b) and computes cross section at each non-extremal theta \"\"\"\n",
    "    dtdbs = []\n",
    "    dsdos = []\n",
    "    \n",
    "    # calculates dt/db\n",
    "    for i in range(1,len(bs) - 1):\n",
    "        dtdbs.append((thetas[i+1]-thetas[i-1]) / (bs[i+1] - bs[i-1]))\n",
    "    \n",
    "    # calculates dsigma/dOmega\n",
    "    for i in range(len(dtdbs)):\n",
    "        dsdos.append(bs[i+1]/math.sin(thetas[i+1]) / abs(dtdbs[i]))\n",
    "    \n",
    "    return dsdos\n",
    "\n",
    "\n",
    "\n",
    "\n",
    "\n",
    "## Initial attempt, not exhibiting good behavior. See above dsdo2\n",
    "def dsdo(p, E, b, epsilon = .0001):\n",
    "    \"\"\" computes the derivative in above equation by scattering by b +/- \n",
    "        epsilon, and then inverting. Returns derivative and theta, and\n",
    "        gives an error code if exception occurs\"\"\"\n",
    "    \n",
    "    try:\n",
    "        theta = scatter(p, E, b)\n",
    "        thetap = scatter(p, E, b + epsilon)\n",
    "        thetam = scatter(p, E, b - epsilon)\n",
    "        dtdb = (thetap[0] - thetam[0]) / (2. * epsilon)\n",
    "\n",
    "        #print(theta[0], thetap[0], thetam[0], dtdb)\n",
    "        answ = (b / math.sin(theta[0])) / abs(dtdb)\n",
    "        #print(answ)\n",
    "    except (ZeroDivisionError, ValueError) as err:\n",
    "        #print(err)\n",
    "        return (10101010, theta[0])\n",
    "    return (answ, theta[0])"
   ]
  },
  {
   "cell_type": "code",
   "execution_count": 4,
   "metadata": {
    "collapsed": false
   },
   "outputs": [
    {
     "name": "stdout",
     "output_type": "stream",
     "text": [
      "-0.0013969650519743062\n"
     ]
    },
    {
     "data": {
      "image/png": "[encoded data removed]",
      "text/plain": [
       "<matplotlib.figure.Figure at 0x4ca5a70>"
      ]
     },
     "metadata": {},
     "output_type": "display_data"
    }
   ],
   "source": [
    "%matplotlib inline\n",
    "import matplotlib.pyplot as plt\n",
    "import numpy as np\n",
    "\n",
    "p = particle()\n",
    "b = 1\n",
    "E = 10\n",
    "(theta, xs, ys) = scatter(p, E, b)\n",
    "\n",
    "fig = plt.figure()\n",
    "ax = plt.axes(xlim=(xs[0], xs[-1]), ylim=(min(ys) - .1, max(ys) + .1), xlabel='X', ylabel='Y')\n",
    "\n",
    "points, = ax.plot(xs, ys, marker='o', linestyle='None')\n",
    "\n",
    "# a typical scattering event\n",
    "print(theta)\n",
    "#print(ys)"
   ]
  },
  {
   "cell_type": "code",
   "execution_count": 5,
   "metadata": {
    "collapsed": false
   },
   "outputs": [],
   "source": [
    "### IGNORE ME PLEASE\n",
    "\n",
    "#import numpy as np\n",
    "#\n",
    "#bs = []\n",
    "#thetas = []\n",
    "#ds = []\n",
    "#for b in np.linspace(.01, 1.5, 107):\n",
    "#    #print(b)\n",
    "#    p = particle()\n",
    "#    \n",
    "#    xs = []\n",
    "#    ys = []\n",
    "#    (d, theta) = dsdo(p, 10, b)\n",
    "#    if(d != 10101010):\n",
    "#        bs.append(b)\n",
    "#        thetas.append(theta)\n",
    "#        ds.append(d)\n",
    "\n",
    "#plt.plot(bs, thetas)\n",
    "#plt.plot(bs, ds)"
   ]
  },
  {
   "cell_type": "code",
   "execution_count": 6,
   "metadata": {
    "collapsed": false
   },
   "outputs": [],
   "source": [
    "### PROBLEM 2 Attempt 2\n",
    "### Iterates through values of b for a fixed value of E\n",
    "### We can see that somewhere around b = .8 (for Vo = sigma = 1)\n",
    "### is the point where we switch from being pulled down to being\n",
    "### deflected away. Many anomalous points appeared whenever my linear \n",
    "### space was separated into \"even\" intervals (e.g. by 100), which is\n",
    "###  why I switched it to (an arbitrary) 107 intervals\n",
    "\n",
    "bs = []\n",
    "thetas = []\n",
    "ds = []\n",
    "E = 10\n",
    "\n",
    "for b in np.linspace(.01, 1.5, 107):\n",
    "    #print(b)\n",
    "    p = particle()\n",
    "    \n",
    "    t = scatter(p, E, b)\n",
    "    thetas.append(t[0])\n",
    "    bs.append(b)\n",
    "\n",
    "ds = dsdo2(E, bs, thetas)"
   ]
  },
  {
   "cell_type": "code",
   "execution_count": 7,
   "metadata": {
    "collapsed": false
   },
   "outputs": [
    {
     "data": {
      "text/plain": [
       "[<matplotlib.lines.Line2D at 0x61374b0>]"
      ]
     },
     "execution_count": 7,
     "metadata": {},
     "output_type": "execute_result"
    },
    {
     "data": {
      "image/png": "[encoded data removed]",
      "text/plain": [
       "<matplotlib.figure.Figure at 0x60372f0>"
      ]
     },
     "metadata": {},
     "output_type": "display_data"
    }
   ],
   "source": [
    "# Plot of cross section vs b\n",
    "plt.semilogy(bs[1:-1], list(map(abs,ds)))"
   ]
  },
  {
   "cell_type": "code",
   "execution_count": 8,
   "metadata": {
    "collapsed": false
   },
   "outputs": [
    {
     "data": {
      "text/plain": [
       "[<matplotlib.lines.Line2D at 0x77ca830>]"
      ]
     },
     "execution_count": 8,
     "metadata": {},
     "output_type": "execute_result"
    },
    {
     "data": {
      "image/png": "[encoded data removed]",
      "text/plain": [
       "<matplotlib.figure.Figure at 0x6722290>"
      ]
     },
     "metadata": {},
     "output_type": "display_data"
    }
   ],
   "source": [
    "## Linear plot of b vs theta\n",
    "plt.plot(bs, thetas)"
   ]
  },
  {
   "cell_type": "code",
   "execution_count": null,
   "metadata": {
    "collapsed": false
   },
   "outputs": [
    {
     "data": {
      "text/plain": [
       "[<matplotlib.lines.Line2D at 0x7891d10>]"
      ]
     },
     "execution_count": 9,
     "metadata": {},
     "output_type": "execute_result"
    },
    {
     "data": {
      "image/png": "[encoded data removed]",
      "text/plain": [
       "<matplotlib.figure.Figure at 0x7880610>"
      ]
     },
     "metadata": {},
     "output_type": "display_data"
    }
   ],
   "source": [
    "## plot of b vs abs(theta) on logarithmic y axis \n",
    "plt.semilogy(bs, list(map(lambda x: abs(x), thetas)))"
   ]
  },
  {
   "cell_type": "code",
   "execution_count": null,
   "metadata": {
    "collapsed": true
   },
   "outputs": [],
   "source": [
    "nsteps = 1\n",
    "E = .1\n",
    "es = []\n",
    "bs = []\n",
    "thetas = []\n",
    "ds = []\n",
    "\n",
    "for i in range(nsteps):\n",
    "    for b in np.linspace(.01, 1.5, 107):\n",
    "        print(b)\n",
    "        p = particle()\n",
    "\n",
    "        t = scatter(p, E, b)\n",
    "        thetas.append(t[0])\n",
    "        bs.append(b)\n",
    "        es.append(E)\n",
    "\n",
    "    d = dsdo2(E, bs, thetas)\n",
    "    ds.append(d)\n",
    "    E *= 1000**(1/nsteps)\n",
    "    "
   ]
  },
  {
   "cell_type": "code",
   "execution_count": null,
   "metadata": {
    "collapsed": false
   },
   "outputs": [],
   "source": [
    "plt.semilogx(es, thetas)"
   ]
  },
  {
   "cell_type": "code",
   "execution_count": null,
   "metadata": {
    "collapsed": false
   },
   "outputs": [],
   "source": [
    "plt.loglog(es, ds)"
   ]
  },
  {
   "cell_type": "code",
   "execution_count": null,
   "metadata": {
    "collapsed": true
   },
   "outputs": [],
   "source": []
  }
 ],
 "metadata": {
  "kernelspec": {
   "display_name": "Python 3",
   "language": "python",
   "name": "python3"
  },
  "language_info": {
   "codemirror_mode": {
    "name": "ipython",
    "version": 3
   },
   "file_extension": ".py",
   "mimetype": "text/x-python",
   "name": "python",
   "nbconvert_exporter": "python",
   "pygments_lexer": "ipython3",
   "version": "3.5.1"
  }
 },
 "nbformat": 4,
 "nbformat_minor": 0
}
