{
 "cells": [
  {
   "cell_type": "markdown",
   "metadata": {},
   "source": [
    "# Verlet Algorithm\n",
    "\n",
    "In molecular dynamics, the most commonly used time integration algorithm is probably the so-called Verlet algorithm [L. Verlet, Computer experiments on classical fluids. I. Thermodynamical properties of Lennard-Jones molecules, Physical Review 159, 98 (1967)]. The basic idea is to write two third-order Taylor expansions for the positions ${\\bf r} (t)$, one forward and one backward in time. Calling $\\bf v$ the velocities, $\\bf a$ the accelerations, and $\\bf b$ the third derivatives of ${\\bf r}$ with respect to $t$, one has:\n",
    "$$\\begin{equation}\n",
    "{\\bf r} (t+\\Delta t) = {\\bf r} (t) + {\\bf v} (t) \\Delta t + \\frac{1}{2} {\\bf a}(t) \\Delta t^2 + (1/6) {\\bf b} (t) \\Delta t^3\n",
    " + O(\\Delta t^4) \\end{equation}\n",
    "$$\n",
    "$$\n",
    "\\begin{equation}\n",
    "{\\bf r} (t-\\Delta t) = {\\bf r} (t) - {\\bf v} (t) \\Delta t + \\frac{1}{2} {\\bf a}(t) \\Delta t^2 - (1/6) {\\bf b} (t) \\Delta t^3\n",
    " + O(\\Delta t^4) \\end{equation}\n",
    "$$\n",
    "Adding the two expressions gives\n",
    "$$\\begin{equation}\n",
    "{\\bf r} (t+\\Delta t) = 2{\\bf r} (t) - {\\bf r} (t-\\Delta t)\n",
    " + {\\bf a} (t) \\Delta t^2 + O(\\Delta t^4) \\end{equation}\t\n",
    "$$\n",
    "This is the basic form of the Verlet algorithm. Since we are integrating Newton's equations, ${\\bf a} (t)$ is just the force divided by the mass, and the force is in turn a function of the positions ${\\bf r} (t)$:\n",
    "$$\\begin{equation}\n",
    "{\\bf a} (t) = - \\frac{1}{m} {\\bf\\nabla} V\\left( {\\bf r}(t) \\right) \\end{equation}\t\n",
    "$$\n",
    "As one can immediately see, the truncation error of the algorithm when evolving the system by $\\Delta t$ is of the order of  $\\Delta t^4$, even if third derivatives do not appear explicitly. This algorithm is at the same time simple to implement, accurate and stable, explaining its large popularity among molecular dynamics simulators.\n",
    "\n",
    "While the velocities are not needed for the time evolution, their knowledge is sometimes necessary. Moreover, they are required to compute the kinetic energy $K$, whose evaluation is necessary to test the conservation of the total energy $E=K+V$. This is one of the most important tests to verify that a MD simulation is proceeding correctly. One could compute the velocities from the positions by subtracting the previous expression to obtain:\n",
    "\n",
    "$$\\begin{equation}\n",
    "{\\bf v} (t) = \\frac { {\\bf r}(t+\\Delta t) - {\\bf r}(t-\\Delta t) }\n",
    " { 2 \\Delta t } . \\end{equation}\n",
    "$$\n",
    "However, the error associated to this expression is of order $\\Delta t^2$ rather than $\\Delta t^4$.\n",
    "\n",
    "The main problem with the Verlet algorithsm is that it is not self starting, and the first step needs to be computed by different means. An additional problem is that the new velocity is found by computing the difference between two quantities of the same order of magnitude. When using computers which always operate with finite numerical precision, such an operation results in a loss of numerical precision and may give rise to substantial roundoff error.\n",
    "\n",
    "An even better implementation of the same basic algorithm is the so-called \"**velocity Verlet scheme**\", where positions, velocities and accelerations at time $t+\\Delta t$ are obtained from the same quantities at time $t$ in the following way:\n",
    "\n",
    "$$\\begin{eqnarray}\n",
    "{\\bf r} (t + \\Delta t) &=& {\\bf r} (t) + {\\bf v} (t) \\Delta t + (1/2) {\\bf a} (t) \\Delta t^2 \\\\\n",
    "{\\bf v} (t + \\Delta t/2) &=& {\\bf v} (t) + (1/2) {\\bf a} (t) \\Delta t \\\\\n",
    "{\\bf a} (t + \\Delta t) &=& - (1/m) {\\bf\\nabla} V \\left( {\\bf r}(t+\\Delta t) \\right) \\\\ \n",
    "{\\bf v} (t + \\Delta t) &=& {\\bf v} (t + \\Delta t/2) + (1/2) {\\bf a} (t + \\Delta t) \\Delta t \n",
    "\\end{eqnarray}$$\n",
    "\n",
    "Note how we need $9N$ memory locations to save the $3N$ positions, velocities and accelerations, but we never need to have simultaneously stored the values at two different times for any one of these quantities.\n",
    "\n",
    "Here, we modify the code for particle2 implementing velocity Verlet:"
   ]
  },
  {
   "cell_type": "code",
   "execution_count": 35,
   "metadata": {
    "collapsed": true
   },
   "outputs": [],
   "source": [
    "GM = 4*math.pi**2\n",
    "\n",
    "class particle2(object):\n",
    "    \n",
    "    def __init__(self, mass=1., x=0., y=0., vx=0., vy=0., fx=0., fy=0., dt=.001):\n",
    "        self.mass = mass\n",
    "        self.x = x\n",
    "        self.y = y\n",
    "        self.vx = vx\n",
    "        self.vy = vy\n",
    "        self.dt = dt\n",
    "        self.halfdt = self.dt / 2.\n",
    "        self.fx = fx\n",
    "        self.fy = fy     \n",
    "    \n",
    "    def accel(self):\n",
    "        self.vx += self.fx * self.halfdt / self.mass\n",
    "        self.vy += self.fy * self.halfdt / self.mass\n",
    "        \n",
    "    def move(self):\n",
    "        self.x += self.vx * self.dt + self.fx * self.dt * self.halfdt / self.mass\n",
    "        self.y += self.vy * self.dt + self.fy * self.dt * self.halfdt / self.mass\n",
    "        \n",
    "        \n",
    "    def get_force(self):  # returns force per unit of mass (acceleration)\n",
    "        r = math.sqrt(self.x*self.x+self.y*self.y)\n",
    "        r3 = r * r * r\n",
    "        self.fx = -GM * self.mass * self.x/r3\n",
    "        self.fy = -GM * self.mass * self.y/r3\n",
    "        #self.fx /= self.mass\n",
    "        #self.fy /= self.mass\n",
    "    \n",
    "    def verlet2(self):\n",
    "        self.move()\n",
    "        self.accel()\n",
    "        self.get_force()\n",
    "        self.accel()\n",
    "    \n",
    "    def verlet(self, dt):\n",
    "        self.get_force(fx, fy) # before I move to the new position\n",
    "        self.x += self.vx*dt + 0.5*fx*dt*dt\n",
    "        self.y += self.vy*dt + 0.5*fy*dt*dt\n",
    "        self.vx += 0.5*fx*dt\n",
    "        self.vy += 0.5*fy*dt\n",
    "        self.get_force(fx, fy) # after I move to the new position\n",
    "        self.vx += 0.5*fx*dt\n",
    "        self.vy += 0.5*fy*dt\n",
    "\n"
   ]
  },
  {
   "cell_type": "code",
   "execution_count": 38,
   "metadata": {
    "collapsed": false
   },
   "outputs": [],
   "source": [
    "import math\n",
    "import numpy as np\n",
    "\n",
    "\n",
    "NPLANETS = 2\n",
    "\n",
    "m1 = 0.1\n",
    "r1 = 1.                  # radius of the orbit\n",
    "v1 = math.sqrt(GM/r1)    # This is the condition for circular orbits \n",
    "\n",
    "m2 = 0.01\n",
    "r2 = 4./3.               # radius of the orbit\n",
    "v2 = math.sqrt(GM/r2)    # This is the condition for circular orbits \n",
    "\n",
    "dt = 0.001               # time step\n",
    "tmax = 2.\n",
    "nsteps = int(tmax/dt)\n",
    "\n",
    "x = np.zeros(shape=(nsteps,NPLANETS))\n",
    "y = np.zeros(shape=(nsteps,NPLANETS))\n",
    "vx = np.zeros(shape=(nsteps,NPLANETS)) \n",
    "vy = np.zeros(shape=(nsteps,NPLANETS))\n",
    "energy = np.zeros(shape=(nsteps,NPLANETS))\n",
    "\n",
    "x[0,0] = r1\n",
    "y[0,0] = 0.\n",
    "vx[0,0] = 0.\n",
    "vy[0,0] = v1\n",
    "energy[0][0] = 0.5*v1**2 - GM/r1\n",
    "x[0,1] = r2\n",
    "y[0,1] = 0.\n",
    "vx[0,1] = 0.\n",
    "vy[0,1] = v2\n",
    "energy[0][1] = 0.5*v2**2 - GM/r2\n",
    "\n",
    "planets = []\n",
    "for i in range(NPLANETS):        # create a list of NPLANETS particle2's\n",
    "    planets.append([particle2])\n",
    "\n",
    "m = [m1, m2]\n",
    "for i in range(NPLANETS):\n",
    "    planets[i] = particle2(m[i], x[0,i], y[0,i], vx[0,i], vy[0,i], 0, 0, dt)\n",
    "    r = math.sqrt(planets[i].x*planets[i].x+planets[i].y*planets[i].y);\n",
    "    r3 = r * r * r;\n",
    "    fx = -GM*planets[i].mass*planets[i].x/r3;\n",
    "    fy = -GM*planets[i].mass*planets[i].y/r3;\n",
    "    planets[i].fx = fx\n",
    "    planets[i].fy = fy\n",
    "\n",
    "for i in range(1,nsteps):\n",
    "    for n in range(0,NPLANETS):\n",
    "        planets[n].verlet2()\n",
    "        x[i,n] = planets[n].x\n",
    "        y[i,n] = planets[n].y\n",
    "        vx[i,n] = planets[n].vx\n",
    "        vy[i,n] = planets[n].vy\n",
    "        #energy[i,n] = 0.5*(planets[n].vx**2+planets[n].vy**2) - GM/r\n",
    "\n",
    "t = np.linspace(0.,tmax,nsteps)    \n"
   ]
  },
  {
   "cell_type": "code",
   "execution_count": 39,
   "metadata": {
    "collapsed": false
   },
   "outputs": [
    {
     "data": {
      "image/png": "[encoded data removed]",
      "text/plain": [
       "<matplotlib.figure.Figure at 0xb48a90>"
      ]
     },
     "metadata": {},
     "output_type": "display_data"
    }
   ],
   "source": [
    "%matplotlib inline\n",
    "from matplotlib import pyplot\n",
    "pyplot.plot(x[:,0], y[:,0], color='blue', ls='-', lw=3)\n",
    "pyplot.plot(x[:,1], y[:,1], color='red', ls='-', lw=3)\n",
    "\n",
    "pyplot.xlabel('position x')\n",
    "pyplot.ylabel('position y');"
   ]
  },
  {
   "cell_type": "markdown",
   "metadata": {},
   "source": [
    "### Challenge 2.3:\n",
    "\n",
    "Use velocity verlet to simulate the mini-solar system from Challenge 2.2.\n",
    "Can you come up with a different way to write the algorithm such that you call get_force only once per move?"
   ]
  },
  {
   "cell_type": "code",
   "execution_count": null,
   "metadata": {
    "collapsed": true
   },
   "outputs": [],
   "source": []
  }
 ],
 "metadata": {
  "kernelspec": {
   "display_name": "Python 3",
   "language": "python",
   "name": "python3"
  },
  "language_info": {
   "codemirror_mode": {
    "name": "ipython",
    "version": 3
   },
   "file_extension": ".py",
   "mimetype": "text/x-python",
   "name": "python",
   "nbconvert_exporter": "python",
   "pygments_lexer": "ipython3",
   "version": "3.5.1"
  }
 },
 "nbformat": 4,
 "nbformat_minor": 0
}
