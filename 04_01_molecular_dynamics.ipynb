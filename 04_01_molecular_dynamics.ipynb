{
 "cells": [
  {
   "cell_type": "markdown",
   "metadata": {},
   "source": [
    "Molecular Dynamics\n",
    "==================\n",
    "\n",
    "Thus far we have studied the dynamics behavior of systems with only a\n",
    "few particles. However, many systems in nature such as gases, liquids\n",
    "and solids contain many mutually interacting particles. A typical\n",
    "problem involves $%\n",
    "10^{23}-10^{25}$ molecules which, to a good approximation, obey the laws\n",
    "of classical physics. Although the intermolecular forces produce a\n",
    "complicated trajectory for each particle, the observable properties of\n",
    "the whole are averages that do not depend on the individual behavior.\n",
    "The motion is completely determined by the classical equations of\n",
    "motion, and all the physics is contained in the intramolecular\n",
    "potential, *i.e.* the interactions.\n",
    "\n",
    "The problem consists in understanding the properties of the whole,\n",
    "starting from the known interactions. The most direct approach is to\n",
    "simulate the problem with a computer. The problem of simulating a system\n",
    "with $%\n",
    "10^{23}-10^{25}$ particles requires the power of a supercomputer, and\n",
    "using parallelization techniques. However we can learn the principles\n",
    "using a fraction of that number, say $10^{4}$ particles, that is\n",
    "tractable in a PC. Not only we can learn about about many of the instead\n",
    "of statistical mechanics, but also the basic simulation techniques. The\n",
    "technique that we will learn in this section does not differ in essence\n",
    "from that used in supercomputers, and it is called “molecular dynamics”.\n",
    "\n",
    "The intermolecular potential\n",
    "----------------------------\n",
    "\n",
    "\n",
    "Our first goal is to identify the model we want to simulate. The first\n",
    "simplification is to consider the molecules spherical, chemically inert,\n",
    "and that they move according to the laws of classical mechanics. We also\n",
    "assume that the force between molecules depends only on the distance\n",
    "between them. The form of this potential for electrically neutral atoms\n",
    "can be constructed from a detailed first principles quantum mechanical\n",
    "calculation. Such calculation can be complicated, so we will consider a\n",
    "phenomenological form. The most important features are: **strong\n",
    "repulsion at short distances, weak attraction at large separations**.\n",
    "The repulsion originates from the electrostatic interaction between\n",
    "equally charged particles, and the long range attraction from the mutual\n",
    "polarization of the electronic clouds, known as “van de Waals” force.\n",
    "\n",
    "Below we list some model potentials:\n",
    "\n",
    "$$\\begin{array}{ll}\n",
    "& \\mathrm{Hard\\,\\, Spheres} & V(r)=\\infty    \\mathrm{\\,\\,if\\,\\,} r<r_{o} & \\mathrm{First\\,\\, approximation} \\\\    \n",
    "&  &    V(r)=0  \\mathrm{\\,\\,if\\,\\,} r\\geq r_{o}  & \\mathrm{in\\,\\, many\\,\\, applications} \\\\\n",
    "& & & \\\\\n",
    "& \\mathrm{Lennard-Jones} & V(r)=4\\epsilon \\left[ \\left( \\frac{r}{\\sigma }\\right)^{-12}-\\left( \\frac{r}{\\sigma}\\right)^{-6}\\right] &  \\mathrm{Noble\\,\\, gas\\,\\, atoms;\\,\\, nearly\\,\\, spherical\\,\\, molecules} \\\\\n",
    "& & & \\\\\n",
    "& \\mathrm{Harmonic} & V(r)=A(r-r_{o})^{2} & \\mathrm{Intramolecular\\,\\, bonds}\n",
    "\\end{array}$$\n",
    "\n",
    "Tricks of the trade\n",
    "-------------------\n",
    "\n",
    "### Units\n",
    "\n",
    "Meters and kilograms are not meant to measure molecules. Using these\n",
    "units would imply the clumsy manipulation of small numbers. We want to\n",
    "choose units of mass, energy, and length such that the values of the\n",
    "quantities are always of the order $1$. For instance, in the case of the\n",
    "Lennard-Jones potential is wise to use $\\sigma $ as a unit of length,\n",
    "$\\epsilon $ as a unit of energy, and $m_{0}=1AMU$ as the unit of mass.\n",
    "Re-scaling by these quantities, the potential would be\n",
    "$$V^{*}(r)=4\\left[ u^{-12}-u^{-6}\\right] ,$$ where $V^{*}=V/\\epsilon $\n",
    "and $u=r/\\sigma $. The advantages are that the Lennard-Jones parameters\n",
    "never show in the formulas, and that we are spared of many\n",
    "computationally expensive calculations. With this choice of units, we\n",
    "find that time is measured in units of $t_{0}=\\sqrt{m_{0}\\sigma\n",
    "^{2}/\\epsilon }$. For the electrical charge, the natural unit is the\n",
    "charge of the electron $e$, and for temperature, $\\epsilon /k$. After\n",
    "finishing the simulation, we transform the results back to the original\n",
    "units to be compared with the experimental data.\n",
    "\n",
    "<!--\n",
    "#### Challenge\n",
    "\n",
    "Figure out how to rescale the units for argon atoms interacting via a Lennard-Jones potential.\n",
    "The parameters for Ar are $\\epsilon = 0.0104 eV$, $\\sigma = 3.40$ ${\\buildrel _{\\circ} \\over {\\mathrm{A}}}$. The mass of one argon atom is $m = 39.948 AMU$.\n",
    "!-->\n",
    "\n",
    "<!--\n",
    "**Hint:** The program should use eVs as the unit of energy and temperature (so Boltzmann’s constant is $k_B = 1$), and ${\\buildrel _{\\circ} \\over {\\mathrm{A}}}$ for the unit of distance. Time is measured in femtoseconds.\n",
    "Since the energy is in eV as a function of ${\\buildrel_{\\circ} \\over {\\mathrm{A}}}$, the force will be in units of $eV/{\\buildrel_{\\circ} \\over {\\mathrm{A}}}$. \n",
    "!-->\n",
    "\n",
    "### Boundary conditions\n",
    "\n",
    "![pbc](figures/pbc.png)\n",
    "#### Example of periodic boundary conditions in 2D. Note that particle 1 is about to leave the left face of the central cell and to enter the center cell trhough the right face. The minimum image distance convention inplies that the separation between particles 1 and 2 is given by the bold line\n",
    "\n",
    "<!--\n",
    "Since the size of our system is typically 10-100 molecular diameters,\n",
    "this is certainly not a good representation for a macroscopic sample\n",
    "because most of the particles will be situated near a “wall” or\n",
    "“boundary”.!-->\n",
    "\n",
    "To minimize the effects of the boundaries and to simulate\n",
    "more closely the properties of the macroscopic system, it is convenient\n",
    "to choose “periodic boundary conditions”. These means that our basic box\n",
    "containing $N$ particles is surrounded by images (or replicas) of\n",
    "itself. This is equivalent to wrap the coordinates around the\n",
    "boundaries: when one particles hits a wall, instead of bouncing pack, it\n",
    "reappears on the other side of the box. This means that the system has\n",
    "the topology of a torus. If the linear size of the box is $L$, the\n",
    "maximum separation between particles is $L/2$.\n",
    "\n",
    "The rule can be summarized as follows: instead of the coordinate $x_{i}$\n",
    "of some particle, we have to adopt\n",
    "$$(x_{i}+2L)\\mathrm{mod}L. $$ In this way the number of\n",
    "particles in a given box is always conserved. A particle crossing the\n",
    "right boundary is automatically replaced by a particle entering the\n",
    "left, and vice versa (Adding $2L$ before the modulo operation is to\n",
    "catch any runaway particles with $x_{i}<-L$).\n",
    "\n",
    "To compute the potential energy or the force between two particles $i$\n",
    "and $j\n",
    "$ one augments the periodic boundary conditions we have to adopt the\n",
    "so-called “nearest image convention”. Imagine that the two particles on\n",
    "opposite sides of the box. The convention dictates that we have to adopt\n",
    "the minimum distance across the walls, or between images in the\n",
    "neighboring replicas. If $\\Delta x_{ij}=x_{j}-x_{i}$ is larger than\n",
    "$L/2$, then the particle $j$ will be disregarded as an interaction\n",
    "partner of $i$, with its left image, having coordinate $x_{j}-L$ in its\n",
    "place. In practice this means simply that when calculating $V(r_{ij})$\n",
    "we have to use the quantity $\\Delta\n",
    "x_{ij}-L$ instead of $\\Delta x_{ij}$. An analogous rule holds for\n",
    "$\\Delta\n",
    "x_{ij}\\leq -L/2$ and for the other coordinates.\n",
    "\n",
    "The rule can be expressed by\n",
    "$$\\Delta x=\\Delta x-L\\mathrm{int}\\left( \\frac{\\Delta x}{L}\\right).$$\n",
    "\n",
    "The rules  can be replaced by \"if\"\n",
    "expressions. In a parallel code this is counter productive, but in a\n",
    "serial code may be preferable. The optimal choice should be based on\n",
    "benchmarks.\n",
    "\n",
    "### Starting configuration\n",
    "\n",
    "![initial](figures/initial.png)\n",
    "#### Initial configuration with particles in vertices of a a) triangular; b) rectangular lattice\n",
    "\n",
    "Picking the right starting configuration is\n",
    "not trivial. The first choice would be to place the molecules randomly\n",
    "distributed, but this would give rise to large starting energies and\n",
    "forces, since many pairs would be placed at unphysical short distances.\n",
    "It is therefore customary to place the particles in the vertices of a\n",
    "some crystal lattice (face centered cubic –or triangular–, for\n",
    "instance). The $x$ and $y$ components of the velocities can be picked\n",
    "randomly in an interval $[-v_{\\max },v_{\\max }]$. Before starting the\n",
    "proper simulation and the measurement of the physical quantities, it is\n",
    "necessary to perform a “thermalization” run to let the system relax to a\n",
    "situation of dynamical and thermal equilibrium.\n",
    "\n",
    "Other possibilities consist of arranging the particles in a regular periodic structure as shown in the figure. The velocities are again picked randomly, and the system must evolve for some time to thermalize.\n",
    "\n",
    "### Adjusting density and temperature\n",
    "\n",
    "Since the number of particles is usually fixed and conserved, the way to\n",
    "achieve the desired density is to adjust the volume. This is done\n",
    "scaling all coordinates by a suitable factor.\n",
    "\n",
    "In Molecular Dynamics, the temperature is a measurable quantity. Kinetic\n",
    "theory tells us that $$T=m\\langle |\\mathbf{v}|^{2}\\rangle /3k,$$ where\n",
    "$k$ is the Boltzmann’s constant, and $\\langle |\\mathbf{v}|^{2}\\rangle $\n",
    "is the averaged square of the velocity. In a simulation, we have to\n",
    "average this quantity over a number of MD steps to get a measurement of\n",
    "$T$. If we want to simulate a particular temperature, we rescale each\n",
    "component of the velocity vector of every particle by\n",
    "$\\sqrt{T_{desired}/T_{actual}}$. Obviously $T$ is a fluctuating quantity\n",
    "and can therefore be adjusted only approximately.\n",
    "\n",
    "MD simulation of Hard Spheres\n",
    "-----------------------------\n",
    "\n",
    "To set the initial conditions let us consider the $N$ spheres to be\n",
    "distributed in a lattice, and with random initial velocities. An\n",
    "addtional requirement is that the total energy should be consistent with\n",
    "some desired temperature according to $E=3NkT/2$. Furthermore, is\n",
    "advantageous to make the total momentum (which will be conserved in the\n",
    "simulation) equal to zero.\n",
    "\n",
    "Next, we compute for each pair of particles $(i,j)$ in the system the\n",
    "time $%\n",
    "t_{ij}$ that would take the pair to meet:\n",
    "\n",
    "$$t_{ij}=\\frac{-b-\\sqrt{b^{2}-v^{2}(r^{2}-d^{2})}}{v^{2}}$$ where $d$ is\n",
    "the sphere diameter, $r$ is the distance between the centers of $i$ and\n",
    "$j$ , and\n",
    "\n",
    "$$\\begin{eqnarray}\n",
    "b &=&(\\mathbf{r}_{j}-\\mathbf{r}_{i}).(\\mathbf{v}_{j}-\\mathbf{v}_{i}) \\\\\n",
    "v &=&\\left| (\\mathbf{v}_{j}-\\mathbf{v}_{i})\\right|\\end{eqnarray}$$\n",
    "\n",
    "For each particle $i$ the smallest positive collision time $t(i)=\\min\n",
    "(\\{t_{ij}\\})$ and the corresponding collision partner $j(i)$ are\n",
    "memorized. If the particle has no collision partner at positive times,\n",
    "we set $j(i)=-1$ and $t(i)=10^{16}$ or the largest representable number.\n",
    "\n",
    "Evidently this calculation is quite costly, since there are $N(N-1)/2$\n",
    "pairs to be scanned. However this double loop over all indices has to be\n",
    "performed only once, at the start of the simulation.\n",
    "\n",
    "Next we identify the smallest among the $N$ “next collision times”,\n",
    "calling it $t(i_{0}\\dot{)}$ This will give us the time that will pass\n",
    "until the next collision occurring in the entire system. Let the\n",
    "partners in this collision be $i_{0}$ and $j_{0}$.\n",
    "\n",
    "Now all the particle positions are incremented according to the free\n",
    "motion law $$\\mathbf{r}_{i}=\\mathbf{r}_{i}+\\mathbf{v}_{i}t(i_{0})$$ and\n",
    "all the $t(i)$ are decreased by $t(i_{0}).$\n",
    "\n",
    "The elastic collision between the spheres $i=i_{0}$ and $j=j_{0}$ leads\n",
    "to new velocities of these two particles\n",
    "$$\\mathbf{v}_{i}^{\\prime }=\\mathbf{v}_{i}+\\Delta \\mathbf{v,\\,\\,\\,\\,v}%\n",
    "_{j}^{\\prime }=\\mathbf{v}_{j}-\\Delta \\mathbf{v}$$ where\n",
    "$$\\Delta \\mathbf{v=}b\\frac{\\mathbf{r}_{ij}}{d^{2}}$$ All pairwise\n",
    "collision times $t_{ij}$ that involve either $i_{0}$ or $j_{0}$ must now\n",
    "be recalculated using the new velocities. For this purpose no more than\n",
    "$2N-3$ pairs have to be scanned.\n",
    "\n",
    "The elementary step of a hard sphere MD calculations now completed. The\n",
    "next step is started by once more searching all the $t_{i}$ for the\n",
    "smallest element.\n",
    "\n",
    "### Exercise 4.1: MD for Hard Spheres \n",
    "\n",
    "Write the MD code for a two dimensional system of hard disks. Set the\n",
    "simple initial configuration with the disk in the vertices of a square\n",
    "lattice. Use a small density and take snapshots. Notice that sometimes,\n",
    "due to the periodic boundary conditions, some particles suddenly appear\n",
    "overlapping another. Limit the time allowed for free flight such that\n",
    "for each particle and each coordinate $\\alpha $ the free motion\n",
    "displacement fulfills $\\Delta\n",
    "x_{\\alpha }\\equiv v_{\\alpha }\\Delta t\\leq L/2-d$. To avoid this\n",
    "difficulty one may as well use reflecting boundary conditions, doing a\n",
    "“billiard dynamics” simulation.\n",
    "\n",
    "MD simulation: Continuous potentials\n",
    "------------------------------------\n",
    "\n",
    "The interaction between hard particles was considered as an\n",
    "instantaneous collision process, with forces of infinite strength acting\n",
    "instantaneously during infinitely short times. A dynamical equation is\n",
    "of no use in such model, and it was therefore appropriate to calculate\n",
    "the collision laws to obtain the new velocities. In between collisions,\n",
    "the particles fly freely without acceleration. In contrast, for a\n",
    "continuous varying potential, the particles are either in a force field,\n",
    "or interact with some other particle at long distances and at any time.\n",
    "Therefore\n",
    "$$\\mathbf{\\ddot{r}}=\\frac{1}{m}\\mathbf{F}_{i}=\\frac{1}{m}\\sum_{j\\neq i}\\mathbf{%\n",
    "f}_{ij}(t)$$ with $$\\mathbf{f}_{ij}=-\\nabla _{i}V(r_{ij})$$ where $V$ is\n",
    "the interaction potential (*e.g.* Lennard-Jones).\n",
    "\n",
    "When evaluating the total force acting on a particle we apply periodic\n",
    "boundary conditions and the nearest image convention. In this way we may\n",
    "determine the sum of all the forces acting on a particle. A popular\n",
    "method to integrate the equations of motion is the Verlet algorithm that we learned in the previous \n",
    "sections.\n",
    "<!---:\n",
    "$$\\mathbf{r}_{i}(t_{n+1})=2\\mathbf{r}_{i}(t_{n})-\\mathbf{r}_{i}(t_{n-1})+%\n",
    "\\mathbf{F}_{i}(t_{n})(\\Delta t)^{2}$$ (Notice that this is not a self\n",
    "starting algorithm)\n",
    "!-->\n",
    "\n",
    "### Exercise 4.2: Approach to equilibrium I \n",
    "\n",
    "Write the code for simulating a two dimensional system of particles\n",
    "interacting via a Lennard-Jones potential. Consider $N=12$ particles in\n",
    "a box of linear dimensions $L_x=L_y=8$. For this choice of $N$ and $L$\n",
    "the density $\\rho =12/64=0.19$. Suppose that the particles are initially\n",
    "constrained to be in the left part of the box and placed on a\n",
    "rectangular grid. At $t=0$ the constraint is removed and the particles\n",
    "move freely throughout the entire box. Use $v_{\\max }=1.0$, the maximum\n",
    "initial speed, and $\\Delta t=0.02$.\n",
    "\n",
    "1.  Observe a sufficient number of snapshots for the particles to move\n",
    "    significantly from their original positions (It will take of the\n",
    "    order of 100-200 time steps). Does the system become more or less\n",
    "    random?\n",
    "\n",
    "2.  From the visual snapshots of the trajectories, estimate the time for\n",
    "    the system to reach equilibrium. What is your qualitative criterion\n",
    "    for equilibrium?\n",
    "\n",
    "3.  Compute $n(t)$ the number of particles on the left hand side of\n",
    "    the box. Plot its value as a function of time. What is the\n",
    "    qualitative behavior of $n(t)$? What is the mean number of particles\n",
    "    on the left side?\n",
    "\n",
    "### Exercise 4.3: Approach to equilibrium II \n",
    "\n",
    "Consider $N=12$ particles in a box of linear dimensions $L_x=L_y=8$.\n",
    "Consider the initially the particles are placed in a rectangular grid\n",
    "and the velocities are random with $v_{\\max }=1.0$.\n",
    "\n",
    "1.  Do a number of MD steps (50,100) and average the quantity $\\left| \n",
    "    \\mathbf{v}\\right| ^{2}$ to estimate the actual temperature. To\n",
    "    adjust the temperature to a desired value, scale all velocity\n",
    "    components for all particles in a suitable way. Repeat this\n",
    "    procedure up to 10 times. After 500-1000 steps the fluid will be\n",
    "    well equilibrated and the temperature will be steady (although\n",
    "    fluctuating slightly). Use $\\Delta t=0.02$. Pick $T=1,2,4$ in units of $\\epsilon/k$.\n",
    "\n",
    "2.  Plot the temperature averaged over intervals of 5 time steps as a\n",
    "    function of time for each of the previous temperatures. What is the\n",
    "    qualitative dependence of the temperature fluctuations?\n",
    "\n",
    "3.  Calculate the kinetic and potential energies as a function of time.\n",
    "    Are the kinetic and potential energies conserved separately?\n",
    "\n"
   ]
  },
  {
   "cell_type": "markdown",
   "metadata": {},
   "source": [
    "We first import the mandatory libraries"
   ]
  },
  {
   "cell_type": "code",
   "execution_count": 14,
   "metadata": {
    "collapsed": true
   },
   "outputs": [],
   "source": [
    "%matplotlib inline\n",
    "import numpy as np\n",
    "from matplotlib import pyplot\n",
    "import matplotlib.animation as animation\n",
    "from JSAnimation.IPython_display import display_animation\n",
    "import math\n",
    "import itertools as itool"
   ]
  },
  {
   "cell_type": "markdown",
   "metadata": {},
   "source": [
    "Let's define a couple of enumerations (lists of values), similar C **enum**'s:"
   ]
  },
  {
   "cell_type": "code",
   "execution_count": 15,
   "metadata": {
    "collapsed": true
   },
   "outputs": [],
   "source": [
    "class BoundaryCondition:\n",
    "    RBC, PBC = range(2)\n",
    "    \n",
    "class StartConf:\n",
    "    Triangular, Rectangular, Random, Confined = range(4)\n",
    "    "
   ]
  },
  {
   "cell_type": "code",
   "execution_count": 17,
   "metadata": {
    "collapsed": false
   },
   "outputs": [
    {
     "name": "stdout",
     "output_type": "stream",
     "text": [
      "1\n"
     ]
    }
   ],
   "source": [
    "print(BoundaryCondition.PBC)"
   ]
  },
  {
   "cell_type": "markdown",
   "metadata": {},
   "source": [
    "We now define our particle object:"
   ]
  },
  {
   "cell_type": "code",
   "execution_count": 213,
   "metadata": {
    "collapsed": true
   },
   "outputs": [],
   "source": [
    "class particle2(object):\n",
    "\n",
    "    def __init__(self, mass=1., x=0., y=0., vx=0., vy=0.):\n",
    "        self.mass = mass\n",
    "        self.x = x\n",
    "        self.y = y\n",
    "        self.vx = vx\n",
    "        self.vy = vy\n",
    "        self.fx = 0.\n",
    "        self.fy = 0.\n",
    "        \n",
    "    def ke(self):\n",
    "        return .5 * self.mass * (self.vx**2 + self.vy**2)\n",
    "    \n",
    "    def pe(self, p2, sigma, V=4):\n",
    "        dx = p2.x - self.x\n",
    "        dy = p2.y - self.y\n",
    "        r2 = dx**2 + dy**2\n",
    "        r6 = r2**3\n",
    "        r12 = r6**2\n",
    "        sigma6 = sigma**6\n",
    "        sigma12 = sigma**2\n",
    "        return V * (sigma12/r12 - sigma6/r6)\n",
    "    \n",
    "    def euler(self, fx, fy, dt):\n",
    "        self.vx = self.vx + self.fx/self.mass*dt\n",
    "        self.vy = self.vy + self.fy/self.mass*dt\n",
    "        self.x = self.x + self.vx*dt\n",
    "        self.y = self.y + self.vy*dt\n",
    "        \n",
    "    def accel(self, dt):\n",
    "        self.vx = self.vx + self.fx/self.mass*dt\n",
    "        self.vy = self.vy + self.fy/self.mass*dt\n",
    "        \n",
    "    def move(self, dt, dt2half):\n",
    "        self.x = self.x + self.vx*dt + self.fx/self.mass*dt2half\n",
    "        self.y = self.y + self.vy*dt + self.fy/self.mass*dt2half \n",
    "        \n",
    "    \n",
    "    "
   ]
  },
  {
   "cell_type": "markdown",
   "metadata": {},
   "source": [
    "Let's see how arguments are passed to functions:"
   ]
  },
  {
   "cell_type": "code",
   "execution_count": 214,
   "metadata": {
    "collapsed": false
   },
   "outputs": [
    {
     "name": "stdout",
     "output_type": "stream",
     "text": [
      "1.0\n",
      "2.0\n"
     ]
    }
   ],
   "source": [
    "p = particle2()\n",
    "def move(o):\n",
    "    o.x += 1\n",
    "\n",
    "    \n",
    "move(p)\n",
    "print(p.x)\n",
    "move(p)\n",
    "print(p.x)"
   ]
  },
  {
   "cell_type": "code",
   "execution_count": 215,
   "metadata": {
    "collapsed": false
   },
   "outputs": [
    {
     "name": "stdout",
     "output_type": "stream",
     "text": [
      "2\n",
      "2\n",
      "2\n"
     ]
    }
   ],
   "source": [
    "def change(i):\n",
    "    return i+1\n",
    "    \n",
    "l = 1\n",
    "l = change(l)\n",
    "print(l)\n",
    "\n",
    "def change2(i,j):\n",
    "    return (i+1,j+1)\n",
    "\n",
    "(x,y)=(1,1)\n",
    "(x,y) = change2(x,y)\n",
    "print(x)\n",
    "print(y)"
   ]
  },
  {
   "cell_type": "markdown",
   "metadata": {},
   "source": [
    "Numbers are passed by value, while objects are passed by reference!"
   ]
  },
  {
   "cell_type": "markdown",
   "metadata": {},
   "source": [
    "Let's take another look at arrays. Numpy as a method to generate pseudo random numbers, let's see an example (we'll have a more detailed discussion about random number generators in the future)"
   ]
  },
  {
   "cell_type": "code",
   "execution_count": 216,
   "metadata": {
    "collapsed": false
   },
   "outputs": [
    {
     "name": "stdout",
     "output_type": "stream",
     "text": [
      "0.5335114134526591\n"
     ]
    }
   ],
   "source": [
    "print(np.random.random())"
   ]
  },
  {
   "cell_type": "code",
   "execution_count": 217,
   "metadata": {
    "collapsed": false
   },
   "outputs": [
    {
     "name": "stdout",
     "output_type": "stream",
     "text": [
      "0.506200740626\n"
     ]
    }
   ],
   "source": [
    "x = np.random.random(10)\n",
    "print(x[5])"
   ]
  },
  {
   "cell_type": "code",
   "execution_count": 218,
   "metadata": {
    "collapsed": false
   },
   "outputs": [
    {
     "name": "stdout",
     "output_type": "stream",
     "text": [
      "0.259965989837\n",
      "0.908386288393\n",
      "0.342255332673\n",
      "0.93903597676\n",
      "0.49998728822\n",
      "0.506200740626\n",
      "0.160975743123\n",
      "0.579740095855\n",
      "0.598596455457\n",
      "0.231114834924\n"
     ]
    }
   ],
   "source": [
    "n = 0\n",
    "for p in x:\n",
    "    print(p)\n",
    "    if n == 3: \n",
    "        p = 1\n",
    "    n+=1"
   ]
  },
  {
   "cell_type": "code",
   "execution_count": 219,
   "metadata": {
    "collapsed": false
   },
   "outputs": [
    {
     "name": "stdout",
     "output_type": "stream",
     "text": [
      "0.93903597676\n"
     ]
    }
   ],
   "source": [
    "print(x[3])"
   ]
  },
  {
   "cell_type": "markdown",
   "metadata": {},
   "source": [
    "Elements of an array of numbers are passed by value, not by reference."
   ]
  },
  {
   "cell_type": "code",
   "execution_count": 220,
   "metadata": {
    "collapsed": false
   },
   "outputs": [
    {
     "name": "stdout",
     "output_type": "stream",
     "text": [
      "[<__main__.particle2 object at 0x0A213990>, <__main__.particle2 object at 0x09EF1330>]\n"
     ]
    }
   ],
   "source": [
    "planets = [particle2()]\n",
    "planets.append(particle2())\n",
    "print(planets)"
   ]
  },
  {
   "cell_type": "code",
   "execution_count": 204,
   "metadata": {
    "collapsed": false
   },
   "outputs": [
    {
     "name": "stdout",
     "output_type": "stream",
     "text": [
      "2.0\n"
     ]
    }
   ],
   "source": [
    "move(planets[1])\n",
    "move(planets[1])\n",
    "print(planets[1].x)\n"
   ]
  },
  {
   "cell_type": "markdown",
   "metadata": {},
   "source": [
    "We are ready to start coding our molecular dynamics simulation!"
   ]
  },
  {
   "cell_type": "code",
   "execution_count": 312,
   "metadata": {
    "collapsed": false
   },
   "outputs": [],
   "source": [
    "class MDsystem(object):\n",
    "\n",
    "    def __init__(self, lx, ly, N, dt, bc): \n",
    "        self.N = N\n",
    "        self.lx = ly\n",
    "        self.ly = lx\n",
    "        self.dt = dt\n",
    "        self.dt2 = dt*dt\n",
    "        self.dthalf = dt * 0.5\n",
    "        self.dt2half = self.dt2 * 0.5\n",
    "        self.bc = bc\n",
    "        self.particles = [particle2()]\n",
    "        for i in range(1,N):\n",
    "            self.particles.append(particle2()) # we create a list of N particles\n",
    "\n",
    "    def init(self, config, vmax):\n",
    "        np.random.seed(1272121) # arbitrary seed\n",
    "        nrows = int(math.sqrt(N*float(self.ly)/float(self.lx)));\n",
    "        ncols = int(math.sqrt(N*float(self.lx)/float(self.ly)));\n",
    "        ax = float(lx) / float(ncols);\n",
    "        ay = float(ly) / float(nrows);\n",
    "        i = 0;\n",
    "\n",
    "        if config == StartConf.Triangular:\n",
    "            #Challenge\n",
    "            return\n",
    "        elif config == StartConf.Rectangular:\n",
    "            for row, col in itool.product(range(nrows),range(ncols)):\n",
    "                if i >= self.N: \n",
    "                    break\n",
    "                self.particles[i].x = col*ax+ax/2\n",
    "                self.particles[i].y = row*ay+ay/2\n",
    "                i+=1\n",
    "\n",
    "            for row, col in itool.product(range(1,nrows),range(1,ncols)):\n",
    "                if i >= self.N: \n",
    "                    break\n",
    "                self.particles[i].x = col*ax/2.+ax/2.\n",
    "                self.particles[i].y = row*ay/2.+ay/2.\n",
    "                i+=1\n",
    "                \n",
    "        elif config == StartConf.Confined:\n",
    "            for row, col in itool.product(range(nrows),range(ncols)):\n",
    "                if i >= self.N: \n",
    "                    break\n",
    "                self.particles[i].x = (col*ax+ax/2.)/2.\n",
    "                self.particles[i].y = (row*ay+ay/2.)\n",
    "                i+=1\n",
    "\n",
    "            for row, col in itool.product(range(1,nrows),range(1,ncols)):\n",
    "                if i >= self.N: \n",
    "                    break\n",
    "                self.particles[i].x = (col*ax/2.+ax/2.)/2.\n",
    "                self.particles[i].y = (row*ay/2.+ay/2.)\n",
    "                i+=1\n",
    "                \n",
    "        elif config == StartConf.Random:\n",
    "            for i in range(self.N):\n",
    "                overlap = True;\n",
    "                while overlap:\n",
    "                    overlap = False;\n",
    "                    self.particles[i].x = np.random.random()*self.lx\n",
    "                    self.particles[i].y = np.random.random()*self.ly\n",
    "                    for j in range(i):\n",
    "                        r12 = self.distance(self.particle[i], self.particle.p[j])\n",
    "                        if r12 < 1.: \n",
    "                            overlap = True;\n",
    "                            break\n",
    "                                \n",
    "        # Velocities\n",
    "        for p in self.particles:\n",
    "            p.vx = vmax*(2. * np.random.random() - 1);\n",
    "            p.vy = vmax*(2. * np.random.random() - 1);\n",
    "\n",
    "        # We set total momentum to zero\n",
    "        vxcm = 0.\n",
    "        vycm = 0. # Velocity of the center of mass\n",
    "        for p in self.particles:\n",
    "            vxcm += p.vx;\n",
    "            vycm += p.vy;\n",
    "        \n",
    "        vxcm /= self.N\n",
    "        vycm /= self.N\n",
    "        for p in self.particles:\n",
    "            p.vx -= vxcm;\n",
    "            p.vy -= vycm;\n",
    "            \n",
    "        self.forces()          \n",
    "        \n",
    "    def evolve(self):\n",
    "        for p in self.particles:\n",
    "            p.move(self.dt, self.dt2half)\n",
    "            p.accel(self.dthalf)\n",
    "            self.boundary(p)\n",
    "\n",
    "        self.forces()\n",
    "\n",
    "        for p in self.particles:\n",
    "            p.accel(self.dthalf)\n",
    "\n",
    "        \n",
    "    def distance(self, p, other):\n",
    "        (r12, dx, dy) = self.distance2(p, other)\n",
    "        return math.sqrt(r12)\n",
    "\n",
    "    def distance2(self, p, other):\n",
    "        dx = other.x - p.x;\n",
    "        dy = other.y - p.y;\n",
    "        # nearest image convention\n",
    "        if self.bc == BoundaryCondition.PBC:\n",
    "            if abs(dx) > self.lx/2:\n",
    "                dx -= dx*lx/abs(dx)\n",
    "                \n",
    "            if abs(dy) > self.ly/2:\n",
    "                dy -= dy*ly/abs(dy)\n",
    "        \n",
    "        r12 = dx * dx + dy * dy\n",
    "        return (r12, dx, dy)\n",
    "\n",
    "    def force(self, p, other):  #Lennard-Jones\n",
    "        (r12,dx,dy) = self.distance2(p, other)\n",
    "        r2 = 1./r12\n",
    "        r6 = r2 * r2 * r2\n",
    "        f = 24.*r2*r6*(2.*r6-1.)\n",
    "        fx = f*(-dx)\n",
    "        fy = f*(-dy)\n",
    "        return (fx, fy);\n",
    "      \n",
    "    def forces(self):\n",
    "        # Compute the interaction forces between particles\n",
    "        for p in self.particles:\n",
    "            p.fx = 0.\n",
    "            p.fy = 0.\n",
    "    \n",
    "        for i in range(self.N):\n",
    "            p = self.particles[i]\n",
    "            for j in range(i+1,self.N):\n",
    "                other = self.particles[j]\n",
    "                (fx, fy) = self.force(p, other)\n",
    "                p.fx += fx\n",
    "                p.fy += fy\n",
    "                other.fx -= fx\n",
    "                other.fy -= fy\n",
    "\n",
    "    def boundary(self, p):\n",
    "        if self.bc == BoundaryCondition.RBC:\n",
    "            \n",
    "            if p.x < 0:  \n",
    "                p.x = -p.x\n",
    "                p.vx = -p.vx\n",
    "            if p.y < 0:\n",
    "                p.y = -p.y\n",
    "                p.vy = -p.vy\n",
    "            if p.x > self.lx:\n",
    "                p.x = 2*self.lx - p.x\n",
    "                p.vx = -p.vx\n",
    "            if p.y > self.ly:\n",
    "                p.y = 2*self.ly - p.y\n",
    "                p.vy = -p.vy\n",
    "\n",
    "        elif self.bc == BoundaryCondition.PBC:\n",
    "\n",
    "            if p.x < 0: \n",
    "                p.x += lx\n",
    "            elif p.x > lx:  \n",
    "                p.x -= lx\n",
    "            if p.y < 0:  \n",
    "                p.y += ly\n",
    "            elif p.y > ly:  \n",
    "                p.y -= ly\n",
    "#            c = (p.x+2*self.lx)/self.lx\n",
    "#            p.x = p.x + 2*self.lx - int(c)*self.lx\n",
    "#            c = (p.y+2*self.ly)/self.ly\n",
    "#            p.y = p.y + 2*self.ly - int(c)*self.ly\n",
    "            \n",
    "    def kinetic_energy(self): # Challenge\n",
    "        ke = 0.\n",
    "        \n",
    "        for p in self.particles:\n",
    "            ke += p.ke()\n",
    "        \n",
    "        return ke\n",
    "    \n",
    "    def pot_energy(self): # Challenge\n",
    "        pe = 0.\n",
    "        \n",
    "        for i in range(self.N):\n",
    "            for j in range(i+1, self.N):\n",
    "                #print(i,j, self.particles[i], self.particles[j])\n",
    "                pe += self.particles[i].pe(self.particles[j], 1, 1)\n",
    "        \n",
    "        return pe\n",
    "    \n",
    "    def total_energy(self):\n",
    "        return self.kinetic_energy()+self.pot_energy()\n",
    "    \n",
    "    def rescale(self, factor):\n",
    "        for p in self.particles:\n",
    "            p.vx /= math.sqrt(factor)\n",
    "            p.vy /= math.sqrt(factor)\n",
    "    "
   ]
  },
  {
   "cell_type": "code",
   "execution_count": 306,
   "metadata": {
    "collapsed": false
   },
   "outputs": [
    {
     "ename": "TypeError",
     "evalue": "'Line2D' object is not iterable",
     "output_type": "error",
     "traceback": [
      "\u001b[1;31m---------------------------------------------------------------------------\u001b[0m",
      "\u001b[1;31mTypeError\u001b[0m                                 Traceback (most recent call last)",
      "\u001b[1;32m<ipython-input-306-42621b9b0a12>\u001b[0m in \u001b[0;36m<module>\u001b[1;34m()\u001b[0m\n\u001b[0;32m     26\u001b[0m \u001b[1;33m\u001b[0m\u001b[0m\n\u001b[0;32m     27\u001b[0m \u001b[1;33m\u001b[0m\u001b[0m\n\u001b[1;32m---> 28\u001b[1;33m \u001b[0manim\u001b[0m \u001b[1;33m=\u001b[0m \u001b[0manimation\u001b[0m\u001b[1;33m.\u001b[0m\u001b[0mFuncAnimation\u001b[0m\u001b[1;33m(\u001b[0m\u001b[0mfig\u001b[0m\u001b[1;33m,\u001b[0m \u001b[0manimate\u001b[0m\u001b[1;33m,\u001b[0m \u001b[0mframes\u001b[0m \u001b[1;33m=\u001b[0m \u001b[1;36m1000\u001b[0m\u001b[1;33m,\u001b[0m \u001b[0minterval\u001b[0m\u001b[1;33m=\u001b[0m\u001b[1;36m100\u001b[0m\u001b[1;33m,\u001b[0m \u001b[0mblit\u001b[0m\u001b[1;33m=\u001b[0m\u001b[1;32mTrue\u001b[0m\u001b[1;33m)\u001b[0m\u001b[1;33m\u001b[0m\u001b[0m\n\u001b[0m\u001b[0;32m     29\u001b[0m \u001b[1;33m\u001b[0m\u001b[0m\n\u001b[0;32m     30\u001b[0m \u001b[0mdisplay_animation\u001b[0m\u001b[1;33m(\u001b[0m\u001b[0manim\u001b[0m\u001b[1;33m,\u001b[0m \u001b[0mdefault_mode\u001b[0m\u001b[1;33m=\u001b[0m\u001b[1;34m'once'\u001b[0m\u001b[1;33m)\u001b[0m\u001b[1;33m\u001b[0m\u001b[0m\n",
      "\u001b[1;32mc:\\program files (x86)\\python35-32\\lib\\site-packages\\matplotlib\\animation.py\u001b[0m in \u001b[0;36m__init__\u001b[1;34m(self, fig, func, frames, init_func, fargs, save_count, **kwargs)\u001b[0m\n\u001b[0;32m   1163\u001b[0m         \u001b[0mself\u001b[0m\u001b[1;33m.\u001b[0m\u001b[0m_save_seq\u001b[0m \u001b[1;33m=\u001b[0m \u001b[1;33m[\u001b[0m\u001b[1;33m]\u001b[0m\u001b[1;33m\u001b[0m\u001b[0m\n\u001b[0;32m   1164\u001b[0m \u001b[1;33m\u001b[0m\u001b[0m\n\u001b[1;32m-> 1165\u001b[1;33m         \u001b[0mTimedAnimation\u001b[0m\u001b[1;33m.\u001b[0m\u001b[0m__init__\u001b[0m\u001b[1;33m(\u001b[0m\u001b[0mself\u001b[0m\u001b[1;33m,\u001b[0m \u001b[0mfig\u001b[0m\u001b[1;33m,\u001b[0m \u001b[1;33m**\u001b[0m\u001b[0mkwargs\u001b[0m\u001b[1;33m)\u001b[0m\u001b[1;33m\u001b[0m\u001b[0m\n\u001b[0m\u001b[0;32m   1166\u001b[0m \u001b[1;33m\u001b[0m\u001b[0m\n\u001b[0;32m   1167\u001b[0m         \u001b[1;31m# Need to reset the saved seq, since right now it will contain data\u001b[0m\u001b[1;33m\u001b[0m\u001b[1;33m\u001b[0m\u001b[0m\n",
      "\u001b[1;32mc:\\program files (x86)\\python35-32\\lib\\site-packages\\matplotlib\\animation.py\u001b[0m in \u001b[0;36m__init__\u001b[1;34m(self, fig, interval, repeat_delay, repeat, event_source, *args, **kwargs)\u001b[0m\n\u001b[0;32m   1007\u001b[0m \u001b[1;33m\u001b[0m\u001b[0m\n\u001b[0;32m   1008\u001b[0m         Animation.__init__(self, fig, event_source=event_source,\n\u001b[1;32m-> 1009\u001b[1;33m                            *args, **kwargs)\n\u001b[0m\u001b[0;32m   1010\u001b[0m \u001b[1;33m\u001b[0m\u001b[0m\n\u001b[0;32m   1011\u001b[0m     \u001b[1;32mdef\u001b[0m \u001b[0m_step\u001b[0m\u001b[1;33m(\u001b[0m\u001b[0mself\u001b[0m\u001b[1;33m,\u001b[0m \u001b[1;33m*\u001b[0m\u001b[0margs\u001b[0m\u001b[1;33m)\u001b[0m\u001b[1;33m:\u001b[0m\u001b[1;33m\u001b[0m\u001b[0m\n",
      "\u001b[1;32mc:\\program files (x86)\\python35-32\\lib\\site-packages\\matplotlib\\animation.py\u001b[0m in \u001b[0;36m__init__\u001b[1;34m(self, fig, event_source, blit)\u001b[0m\n\u001b[0;32m    634\u001b[0m                                                       self._stop)\n\u001b[0;32m    635\u001b[0m         \u001b[1;32mif\u001b[0m \u001b[0mself\u001b[0m\u001b[1;33m.\u001b[0m\u001b[0m_blit\u001b[0m\u001b[1;33m:\u001b[0m\u001b[1;33m\u001b[0m\u001b[0m\n\u001b[1;32m--> 636\u001b[1;33m             \u001b[0mself\u001b[0m\u001b[1;33m.\u001b[0m\u001b[0m_setup_blit\u001b[0m\u001b[1;33m(\u001b[0m\u001b[1;33m)\u001b[0m\u001b[1;33m\u001b[0m\u001b[0m\n\u001b[0m\u001b[0;32m    637\u001b[0m \u001b[1;33m\u001b[0m\u001b[0m\n\u001b[0;32m    638\u001b[0m     \u001b[1;32mdef\u001b[0m \u001b[0m_start\u001b[0m\u001b[1;33m(\u001b[0m\u001b[0mself\u001b[0m\u001b[1;33m,\u001b[0m \u001b[1;33m*\u001b[0m\u001b[0margs\u001b[0m\u001b[1;33m)\u001b[0m\u001b[1;33m:\u001b[0m\u001b[1;33m\u001b[0m\u001b[0m\n",
      "\u001b[1;32mc:\\program files (x86)\\python35-32\\lib\\site-packages\\matplotlib\\animation.py\u001b[0m in \u001b[0;36m_setup_blit\u001b[1;34m(self)\u001b[0m\n\u001b[0;32m    905\u001b[0m         self._resize_id = self._fig.canvas.mpl_connect('resize_event',\n\u001b[0;32m    906\u001b[0m                                                        self._handle_resize)\n\u001b[1;32m--> 907\u001b[1;33m         \u001b[0mself\u001b[0m\u001b[1;33m.\u001b[0m\u001b[0m_post_draw\u001b[0m\u001b[1;33m(\u001b[0m\u001b[1;32mNone\u001b[0m\u001b[1;33m,\u001b[0m \u001b[0mself\u001b[0m\u001b[1;33m.\u001b[0m\u001b[0m_blit\u001b[0m\u001b[1;33m)\u001b[0m\u001b[1;33m\u001b[0m\u001b[0m\n\u001b[0m\u001b[0;32m    908\u001b[0m \u001b[1;33m\u001b[0m\u001b[0m\n\u001b[0;32m    909\u001b[0m     \u001b[1;32mdef\u001b[0m \u001b[0m_handle_resize\u001b[0m\u001b[1;33m(\u001b[0m\u001b[0mself\u001b[0m\u001b[1;33m,\u001b[0m \u001b[1;33m*\u001b[0m\u001b[0margs\u001b[0m\u001b[1;33m)\u001b[0m\u001b[1;33m:\u001b[0m\u001b[1;33m\u001b[0m\u001b[0m\n",
      "\u001b[1;32mc:\\program files (x86)\\python35-32\\lib\\site-packages\\matplotlib\\animation.py\u001b[0m in \u001b[0;36m_post_draw\u001b[1;34m(self, framedata, blit)\u001b[0m\n\u001b[0;32m    870\u001b[0m             \u001b[0mself\u001b[0m\u001b[1;33m.\u001b[0m\u001b[0m_blit_draw\u001b[0m\u001b[1;33m(\u001b[0m\u001b[0mself\u001b[0m\u001b[1;33m.\u001b[0m\u001b[0m_drawn_artists\u001b[0m\u001b[1;33m,\u001b[0m \u001b[0mself\u001b[0m\u001b[1;33m.\u001b[0m\u001b[0m_blit_cache\u001b[0m\u001b[1;33m)\u001b[0m\u001b[1;33m\u001b[0m\u001b[0m\n\u001b[0;32m    871\u001b[0m         \u001b[1;32melse\u001b[0m\u001b[1;33m:\u001b[0m\u001b[1;33m\u001b[0m\u001b[0m\n\u001b[1;32m--> 872\u001b[1;33m             \u001b[0mself\u001b[0m\u001b[1;33m.\u001b[0m\u001b[0m_fig\u001b[0m\u001b[1;33m.\u001b[0m\u001b[0mcanvas\u001b[0m\u001b[1;33m.\u001b[0m\u001b[0mdraw_idle\u001b[0m\u001b[1;33m(\u001b[0m\u001b[1;33m)\u001b[0m\u001b[1;33m\u001b[0m\u001b[0m\n\u001b[0m\u001b[0;32m    873\u001b[0m \u001b[1;33m\u001b[0m\u001b[0m\n\u001b[0;32m    874\u001b[0m     \u001b[1;31m# The rest of the code in this class is to facilitate easy blitting\u001b[0m\u001b[1;33m\u001b[0m\u001b[1;33m\u001b[0m\u001b[0m\n",
      "\u001b[1;32mc:\\program files (x86)\\python35-32\\lib\\site-packages\\matplotlib\\backend_bases.py\u001b[0m in \u001b[0;36mdraw_idle\u001b[1;34m(self, *args, **kwargs)\u001b[0m\n\u001b[0;32m   2024\u001b[0m         \u001b[1;32mif\u001b[0m \u001b[1;32mnot\u001b[0m \u001b[0mself\u001b[0m\u001b[1;33m.\u001b[0m\u001b[0m_is_idle_drawing\u001b[0m\u001b[1;33m:\u001b[0m\u001b[1;33m\u001b[0m\u001b[0m\n\u001b[0;32m   2025\u001b[0m             \u001b[1;32mwith\u001b[0m \u001b[0mself\u001b[0m\u001b[1;33m.\u001b[0m\u001b[0m_idle_draw_cntx\u001b[0m\u001b[1;33m(\u001b[0m\u001b[1;33m)\u001b[0m\u001b[1;33m:\u001b[0m\u001b[1;33m\u001b[0m\u001b[0m\n\u001b[1;32m-> 2026\u001b[1;33m                 \u001b[0mself\u001b[0m\u001b[1;33m.\u001b[0m\u001b[0mdraw\u001b[0m\u001b[1;33m(\u001b[0m\u001b[1;33m*\u001b[0m\u001b[0margs\u001b[0m\u001b[1;33m,\u001b[0m \u001b[1;33m**\u001b[0m\u001b[0mkwargs\u001b[0m\u001b[1;33m)\u001b[0m\u001b[1;33m\u001b[0m\u001b[0m\n\u001b[0m\u001b[0;32m   2027\u001b[0m \u001b[1;33m\u001b[0m\u001b[0m\n\u001b[0;32m   2028\u001b[0m     \u001b[1;32mdef\u001b[0m \u001b[0mdraw_cursor\u001b[0m\u001b[1;33m(\u001b[0m\u001b[0mself\u001b[0m\u001b[1;33m,\u001b[0m \u001b[0mevent\u001b[0m\u001b[1;33m)\u001b[0m\u001b[1;33m:\u001b[0m\u001b[1;33m\u001b[0m\u001b[0m\n",
      "\u001b[1;32mc:\\program files (x86)\\python35-32\\lib\\site-packages\\matplotlib\\backends\\backend_agg.py\u001b[0m in \u001b[0;36mdraw\u001b[1;34m(self)\u001b[0m\n\u001b[0;32m    472\u001b[0m \u001b[1;33m\u001b[0m\u001b[0m\n\u001b[0;32m    473\u001b[0m         \u001b[1;32mtry\u001b[0m\u001b[1;33m:\u001b[0m\u001b[1;33m\u001b[0m\u001b[0m\n\u001b[1;32m--> 474\u001b[1;33m             \u001b[0mself\u001b[0m\u001b[1;33m.\u001b[0m\u001b[0mfigure\u001b[0m\u001b[1;33m.\u001b[0m\u001b[0mdraw\u001b[0m\u001b[1;33m(\u001b[0m\u001b[0mself\u001b[0m\u001b[1;33m.\u001b[0m\u001b[0mrenderer\u001b[0m\u001b[1;33m)\u001b[0m\u001b[1;33m\u001b[0m\u001b[0m\n\u001b[0m\u001b[0;32m    475\u001b[0m         \u001b[1;32mfinally\u001b[0m\u001b[1;33m:\u001b[0m\u001b[1;33m\u001b[0m\u001b[0m\n\u001b[0;32m    476\u001b[0m             \u001b[0mRendererAgg\u001b[0m\u001b[1;33m.\u001b[0m\u001b[0mlock\u001b[0m\u001b[1;33m.\u001b[0m\u001b[0mrelease\u001b[0m\u001b[1;33m(\u001b[0m\u001b[1;33m)\u001b[0m\u001b[1;33m\u001b[0m\u001b[0m\n",
      "\u001b[1;32mc:\\program files (x86)\\python35-32\\lib\\site-packages\\matplotlib\\artist.py\u001b[0m in \u001b[0;36mdraw_wrapper\u001b[1;34m(artist, renderer, *args, **kwargs)\u001b[0m\n\u001b[0;32m     59\u001b[0m     \u001b[1;32mdef\u001b[0m \u001b[0mdraw_wrapper\u001b[0m\u001b[1;33m(\u001b[0m\u001b[0martist\u001b[0m\u001b[1;33m,\u001b[0m \u001b[0mrenderer\u001b[0m\u001b[1;33m,\u001b[0m \u001b[1;33m*\u001b[0m\u001b[0margs\u001b[0m\u001b[1;33m,\u001b[0m \u001b[1;33m**\u001b[0m\u001b[0mkwargs\u001b[0m\u001b[1;33m)\u001b[0m\u001b[1;33m:\u001b[0m\u001b[1;33m\u001b[0m\u001b[0m\n\u001b[0;32m     60\u001b[0m         \u001b[0mbefore\u001b[0m\u001b[1;33m(\u001b[0m\u001b[0martist\u001b[0m\u001b[1;33m,\u001b[0m \u001b[0mrenderer\u001b[0m\u001b[1;33m)\u001b[0m\u001b[1;33m\u001b[0m\u001b[0m\n\u001b[1;32m---> 61\u001b[1;33m         \u001b[0mdraw\u001b[0m\u001b[1;33m(\u001b[0m\u001b[0martist\u001b[0m\u001b[1;33m,\u001b[0m \u001b[0mrenderer\u001b[0m\u001b[1;33m,\u001b[0m \u001b[1;33m*\u001b[0m\u001b[0margs\u001b[0m\u001b[1;33m,\u001b[0m \u001b[1;33m**\u001b[0m\u001b[0mkwargs\u001b[0m\u001b[1;33m)\u001b[0m\u001b[1;33m\u001b[0m\u001b[0m\n\u001b[0m\u001b[0;32m     62\u001b[0m         \u001b[0mafter\u001b[0m\u001b[1;33m(\u001b[0m\u001b[0martist\u001b[0m\u001b[1;33m,\u001b[0m \u001b[0mrenderer\u001b[0m\u001b[1;33m)\u001b[0m\u001b[1;33m\u001b[0m\u001b[0m\n\u001b[0;32m     63\u001b[0m \u001b[1;33m\u001b[0m\u001b[0m\n",
      "\u001b[1;32mc:\\program files (x86)\\python35-32\\lib\\site-packages\\matplotlib\\figure.py\u001b[0m in \u001b[0;36mdraw\u001b[1;34m(self, renderer)\u001b[0m\n\u001b[0;32m   1163\u001b[0m \u001b[1;33m\u001b[0m\u001b[0m\n\u001b[0;32m   1164\u001b[0m         \u001b[0mself\u001b[0m\u001b[1;33m.\u001b[0m\u001b[0m_cachedRenderer\u001b[0m \u001b[1;33m=\u001b[0m \u001b[0mrenderer\u001b[0m\u001b[1;33m\u001b[0m\u001b[0m\n\u001b[1;32m-> 1165\u001b[1;33m         \u001b[0mself\u001b[0m\u001b[1;33m.\u001b[0m\u001b[0mcanvas\u001b[0m\u001b[1;33m.\u001b[0m\u001b[0mdraw_event\u001b[0m\u001b[1;33m(\u001b[0m\u001b[0mrenderer\u001b[0m\u001b[1;33m)\u001b[0m\u001b[1;33m\u001b[0m\u001b[0m\n\u001b[0m\u001b[0;32m   1166\u001b[0m \u001b[1;33m\u001b[0m\u001b[0m\n\u001b[0;32m   1167\u001b[0m     \u001b[1;32mdef\u001b[0m \u001b[0mdraw_artist\u001b[0m\u001b[1;33m(\u001b[0m\u001b[0mself\u001b[0m\u001b[1;33m,\u001b[0m \u001b[0ma\u001b[0m\u001b[1;33m)\u001b[0m\u001b[1;33m:\u001b[0m\u001b[1;33m\u001b[0m\u001b[0m\n",
      "\u001b[1;32mc:\\program files (x86)\\python35-32\\lib\\site-packages\\matplotlib\\backend_bases.py\u001b[0m in \u001b[0;36mdraw_event\u001b[1;34m(self, renderer)\u001b[0m\n\u001b[0;32m   1807\u001b[0m         \u001b[0ms\u001b[0m \u001b[1;33m=\u001b[0m \u001b[1;34m'draw_event'\u001b[0m\u001b[1;33m\u001b[0m\u001b[0m\n\u001b[0;32m   1808\u001b[0m         \u001b[0mevent\u001b[0m \u001b[1;33m=\u001b[0m \u001b[0mDrawEvent\u001b[0m\u001b[1;33m(\u001b[0m\u001b[0ms\u001b[0m\u001b[1;33m,\u001b[0m \u001b[0mself\u001b[0m\u001b[1;33m,\u001b[0m \u001b[0mrenderer\u001b[0m\u001b[1;33m)\u001b[0m\u001b[1;33m\u001b[0m\u001b[0m\n\u001b[1;32m-> 1809\u001b[1;33m         \u001b[0mself\u001b[0m\u001b[1;33m.\u001b[0m\u001b[0mcallbacks\u001b[0m\u001b[1;33m.\u001b[0m\u001b[0mprocess\u001b[0m\u001b[1;33m(\u001b[0m\u001b[0ms\u001b[0m\u001b[1;33m,\u001b[0m \u001b[0mevent\u001b[0m\u001b[1;33m)\u001b[0m\u001b[1;33m\u001b[0m\u001b[0m\n\u001b[0m\u001b[0;32m   1810\u001b[0m \u001b[1;33m\u001b[0m\u001b[0m\n\u001b[0;32m   1811\u001b[0m     \u001b[1;32mdef\u001b[0m \u001b[0mresize_event\u001b[0m\u001b[1;33m(\u001b[0m\u001b[0mself\u001b[0m\u001b[1;33m)\u001b[0m\u001b[1;33m:\u001b[0m\u001b[1;33m\u001b[0m\u001b[0m\n",
      "\u001b[1;32mc:\\program files (x86)\\python35-32\\lib\\site-packages\\matplotlib\\cbook.py\u001b[0m in \u001b[0;36mprocess\u001b[1;34m(self, s, *args, **kwargs)\u001b[0m\n\u001b[0;32m    561\u001b[0m             \u001b[1;32mfor\u001b[0m \u001b[0mcid\u001b[0m\u001b[1;33m,\u001b[0m \u001b[0mproxy\u001b[0m \u001b[1;32min\u001b[0m \u001b[0mlist\u001b[0m\u001b[1;33m(\u001b[0m\u001b[0msix\u001b[0m\u001b[1;33m.\u001b[0m\u001b[0miteritems\u001b[0m\u001b[1;33m(\u001b[0m\u001b[0mself\u001b[0m\u001b[1;33m.\u001b[0m\u001b[0mcallbacks\u001b[0m\u001b[1;33m[\u001b[0m\u001b[0ms\u001b[0m\u001b[1;33m]\u001b[0m\u001b[1;33m)\u001b[0m\u001b[1;33m)\u001b[0m\u001b[1;33m:\u001b[0m\u001b[1;33m\u001b[0m\u001b[0m\n\u001b[0;32m    562\u001b[0m                 \u001b[1;32mtry\u001b[0m\u001b[1;33m:\u001b[0m\u001b[1;33m\u001b[0m\u001b[0m\n\u001b[1;32m--> 563\u001b[1;33m                     \u001b[0mproxy\u001b[0m\u001b[1;33m(\u001b[0m\u001b[1;33m*\u001b[0m\u001b[0margs\u001b[0m\u001b[1;33m,\u001b[0m \u001b[1;33m**\u001b[0m\u001b[0mkwargs\u001b[0m\u001b[1;33m)\u001b[0m\u001b[1;33m\u001b[0m\u001b[0m\n\u001b[0m\u001b[0;32m    564\u001b[0m                 \u001b[1;32mexcept\u001b[0m \u001b[0mReferenceError\u001b[0m\u001b[1;33m:\u001b[0m\u001b[1;33m\u001b[0m\u001b[0m\n\u001b[0;32m    565\u001b[0m                     \u001b[0mself\u001b[0m\u001b[1;33m.\u001b[0m\u001b[0m_remove_proxy\u001b[0m\u001b[1;33m(\u001b[0m\u001b[0mproxy\u001b[0m\u001b[1;33m)\u001b[0m\u001b[1;33m\u001b[0m\u001b[0m\n",
      "\u001b[1;32mc:\\program files (x86)\\python35-32\\lib\\site-packages\\matplotlib\\cbook.py\u001b[0m in \u001b[0;36m__call__\u001b[1;34m(self, *args, **kwargs)\u001b[0m\n\u001b[0;32m    428\u001b[0m             \u001b[0mmtd\u001b[0m \u001b[1;33m=\u001b[0m \u001b[0mself\u001b[0m\u001b[1;33m.\u001b[0m\u001b[0mfunc\u001b[0m\u001b[1;33m\u001b[0m\u001b[0m\n\u001b[0;32m    429\u001b[0m         \u001b[1;31m# invoke the callable and return the result\u001b[0m\u001b[1;33m\u001b[0m\u001b[1;33m\u001b[0m\u001b[0m\n\u001b[1;32m--> 430\u001b[1;33m         \u001b[1;32mreturn\u001b[0m \u001b[0mmtd\u001b[0m\u001b[1;33m(\u001b[0m\u001b[1;33m*\u001b[0m\u001b[0margs\u001b[0m\u001b[1;33m,\u001b[0m \u001b[1;33m**\u001b[0m\u001b[0mkwargs\u001b[0m\u001b[1;33m)\u001b[0m\u001b[1;33m\u001b[0m\u001b[0m\n\u001b[0m\u001b[0;32m    431\u001b[0m \u001b[1;33m\u001b[0m\u001b[0m\n\u001b[0;32m    432\u001b[0m     \u001b[1;32mdef\u001b[0m \u001b[0m__eq__\u001b[0m\u001b[1;33m(\u001b[0m\u001b[0mself\u001b[0m\u001b[1;33m,\u001b[0m \u001b[0mother\u001b[0m\u001b[1;33m)\u001b[0m\u001b[1;33m:\u001b[0m\u001b[1;33m\u001b[0m\u001b[0m\n",
      "\u001b[1;32mc:\\program files (x86)\\python35-32\\lib\\site-packages\\matplotlib\\animation.py\u001b[0m in \u001b[0;36m_start\u001b[1;34m(self, *args)\u001b[0m\n\u001b[0;32m    646\u001b[0m \u001b[1;33m\u001b[0m\u001b[0m\n\u001b[0;32m    647\u001b[0m         \u001b[1;31m# Now do any initial draw\u001b[0m\u001b[1;33m\u001b[0m\u001b[1;33m\u001b[0m\u001b[0m\n\u001b[1;32m--> 648\u001b[1;33m         \u001b[0mself\u001b[0m\u001b[1;33m.\u001b[0m\u001b[0m_init_draw\u001b[0m\u001b[1;33m(\u001b[0m\u001b[1;33m)\u001b[0m\u001b[1;33m\u001b[0m\u001b[0m\n\u001b[0m\u001b[0;32m    649\u001b[0m \u001b[1;33m\u001b[0m\u001b[0m\n\u001b[0;32m    650\u001b[0m         \u001b[1;31m# Add our callback for stepping the animation and\u001b[0m\u001b[1;33m\u001b[0m\u001b[1;33m\u001b[0m\u001b[0m\n",
      "\u001b[1;32mc:\\program files (x86)\\python35-32\\lib\\site-packages\\matplotlib\\animation.py\u001b[0m in \u001b[0;36m_init_draw\u001b[1;34m(self)\u001b[0m\n\u001b[0;32m   1191\u001b[0m         \u001b[1;31m# artists.\u001b[0m\u001b[1;33m\u001b[0m\u001b[1;33m\u001b[0m\u001b[0m\n\u001b[0;32m   1192\u001b[0m         \u001b[1;32mif\u001b[0m \u001b[0mself\u001b[0m\u001b[1;33m.\u001b[0m\u001b[0m_init_func\u001b[0m \u001b[1;32mis\u001b[0m \u001b[1;32mNone\u001b[0m\u001b[1;33m:\u001b[0m\u001b[1;33m\u001b[0m\u001b[0m\n\u001b[1;32m-> 1193\u001b[1;33m             \u001b[0mself\u001b[0m\u001b[1;33m.\u001b[0m\u001b[0m_draw_frame\u001b[0m\u001b[1;33m(\u001b[0m\u001b[0mnext\u001b[0m\u001b[1;33m(\u001b[0m\u001b[0mself\u001b[0m\u001b[1;33m.\u001b[0m\u001b[0mnew_frame_seq\u001b[0m\u001b[1;33m(\u001b[0m\u001b[1;33m)\u001b[0m\u001b[1;33m)\u001b[0m\u001b[1;33m)\u001b[0m\u001b[1;33m\u001b[0m\u001b[0m\n\u001b[0m\u001b[0;32m   1194\u001b[0m \u001b[1;33m\u001b[0m\u001b[0m\n\u001b[0;32m   1195\u001b[0m         \u001b[1;32melse\u001b[0m\u001b[1;33m:\u001b[0m\u001b[1;33m\u001b[0m\u001b[0m\n",
      "\u001b[1;32mc:\\program files (x86)\\python35-32\\lib\\site-packages\\matplotlib\\animation.py\u001b[0m in \u001b[0;36m_draw_frame\u001b[1;34m(self, framedata)\u001b[0m\n\u001b[0;32m   1212\u001b[0m         \u001b[0mself\u001b[0m\u001b[1;33m.\u001b[0m\u001b[0m_drawn_artists\u001b[0m \u001b[1;33m=\u001b[0m \u001b[0mself\u001b[0m\u001b[1;33m.\u001b[0m\u001b[0m_func\u001b[0m\u001b[1;33m(\u001b[0m\u001b[0mframedata\u001b[0m\u001b[1;33m,\u001b[0m \u001b[1;33m*\u001b[0m\u001b[0mself\u001b[0m\u001b[1;33m.\u001b[0m\u001b[0m_args\u001b[0m\u001b[1;33m)\u001b[0m\u001b[1;33m\u001b[0m\u001b[0m\n\u001b[0;32m   1213\u001b[0m         \u001b[1;32mif\u001b[0m \u001b[0mself\u001b[0m\u001b[1;33m.\u001b[0m\u001b[0m_blit\u001b[0m\u001b[1;33m:\u001b[0m\u001b[1;33m\u001b[0m\u001b[0m\n\u001b[1;32m-> 1214\u001b[1;33m             \u001b[1;32mfor\u001b[0m \u001b[0ma\u001b[0m \u001b[1;32min\u001b[0m \u001b[0mself\u001b[0m\u001b[1;33m.\u001b[0m\u001b[0m_drawn_artists\u001b[0m\u001b[1;33m:\u001b[0m\u001b[1;33m\u001b[0m\u001b[0m\n\u001b[0m\u001b[0;32m   1215\u001b[0m                 \u001b[0ma\u001b[0m\u001b[1;33m.\u001b[0m\u001b[0mset_animated\u001b[0m\u001b[1;33m(\u001b[0m\u001b[0mself\u001b[0m\u001b[1;33m.\u001b[0m\u001b[0m_blit\u001b[0m\u001b[1;33m)\u001b[0m\u001b[1;33m\u001b[0m\u001b[0m\n",
      "\u001b[1;31mTypeError\u001b[0m: 'Line2D' object is not iterable"
     ]
    },
    {
     "data": {
      "image/png": "[encoded data removed]",
      "text/plain": [
       "<matplotlib.figure.Figure at 0xca3e130>"
      ]
     },
     "metadata": {},
     "output_type": "display_data"
    }
   ],
   "source": [
    "lx = 8\n",
    "ly = 8\n",
    "N = 12\n",
    "dt = 0.001\n",
    "v0 = 3\n",
    "\n",
    "S = MDsystem(lx, ly, N, dt, BoundaryCondition.RBC)\n",
    "S.init(StartConf.Confined, v0)\n",
    "\n",
    "x = np.zeros(N)\n",
    "y = np.zeros(N)\n",
    "\n",
    "\n",
    "fig = pyplot.figure()\n",
    "ax = pyplot.axes(xlim=(0, lx), ylim=(0, ly), xlabel='X', ylabel='Y')\n",
    "points, = ax.plot([], [], marker='o', linestyle='None')\n",
    "\n",
    "def animate(i):\n",
    "    S.evolve()\n",
    "    for n in range(S.N):\n",
    "        p = S.particles[n]\n",
    "        x[n] = p.x\n",
    "        y[n] = p.y\n",
    "    points.set_data(x, y)\n",
    "    return points\n",
    "\n",
    "\n",
    "anim = animation.FuncAnimation(fig, animate, frames = 1000, interval=100, blit=True)\n",
    "\n",
    "display_animation(anim, default_mode='once')\n",
    "            "
   ]
  },
  {
   "cell_type": "markdown",
   "metadata": {},
   "source": [
    "### Exercise 4.4: Distribution of speeds \n",
    "\n",
    "Our goal is to calculate the equilibrium probability $P(v)\\Delta v$ of\n",
    "finding a particle with speed between $v$ and $v+\\Delta v$. Obtain an\n",
    "estimate of the maximum speed of the particles from the initial\n",
    "configuration. Choose windows with width $\\Delta v$. Each particle will\n",
    "belong to the $k$-th window, with $k=v/\\Delta v$. A reasonable choice of\n",
    "$%\n",
    "\\Delta v$ is $0.1\\sqrt{T}$, where $T$ is the temperature.\n",
    "\n",
    "1.  Record the histogram of velocities $P\\left( v\\right) $ and plot is\n",
    "    versus $v$. What is the qualitative form of $P(v)$? What is the most\n",
    "    probable value for $v$? What is the approximate “width” of $P(v)$?\n",
    "    This probability distribution is known as the\n",
    "    Maxwell-Boltzman distribution.\n",
    "\n",
    "2.  Determine the distribution for each component of the velocity. Make\n",
    "    sure to distinguish between positive and negative values. What are\n",
    "    the most probable values for the $x$ and $y$ components? What are\n",
    "    the average values?"
   ]
  },
  {
   "cell_type": "code",
   "execution_count": null,
   "metadata": {
    "collapsed": false
   },
   "outputs": [],
   "source": [
    "nsteps = 500\n",
    "v_his = np.zeros(nsteps*N)\n",
    "vx_his = np.zeros(nsteps*N)\n",
    "vy_his = np.zeros(nsteps*N)\n",
    "\n",
    "S.init(StartConf.Confined, v0)\n",
    "\n",
    "#for i in range(1000): # warmup for equilibration\n",
    "    #S.evolve()\n",
    "\n",
    "    \n",
    "lefts = []\n",
    "pes = []\n",
    "kes = []\n",
    "energies = []\n",
    "j = 0    \n",
    "for i in range(nsteps):\n",
    "    S.evolve()\n",
    "    left = 0\n",
    "    for n in range(S.N):\n",
    "        p = S.particles[n]\n",
    "        v = p.vx*p.vx+p.vy*p.vy\n",
    "        v_his[j] += math.sqrt(v)\n",
    "        vx_his[j] += p.vx\n",
    "        vy_his[j] += p.vy\n",
    "        \n",
    "        pe = S.pot_energy()\n",
    "        ke = S.kinetic_energy()\n",
    "        te = pe + ke\n",
    "        pes.append(pe)\n",
    "        kes.append(ke)\n",
    "        energies.append(te)\n",
    "        if (p.x < S.lx / 2.):\n",
    "            left += 1\n",
    "        j += 1\n",
    "    lefts.append(left - S.N/2.)\n",
    "\n",
    "pyplot.hist(v_his);\n",
    "#print v_his"
   ]
  },
  {
   "cell_type": "code",
   "execution_count": null,
   "metadata": {
    "collapsed": false
   },
   "outputs": [],
   "source": [
    "pyplot.plot(lefts)\n",
    "a = [1,2,3]\n",
    "b = [4,5,6]\n",
    "print(a+b)"
   ]
  },
  {
   "cell_type": "code",
   "execution_count": null,
   "metadata": {
    "collapsed": false
   },
   "outputs": [],
   "source": [
    "pyplot.plot(pes)"
   ]
  },
  {
   "cell_type": "code",
   "execution_count": null,
   "metadata": {
    "collapsed": false
   },
   "outputs": [],
   "source": [
    "pyplot.plot(kes)"
   ]
  },
  {
   "cell_type": "code",
   "execution_count": 307,
   "metadata": {
    "collapsed": false
   },
   "outputs": [
    {
     "data": {
      "text/plain": [
       "[<matplotlib.lines.Line2D at 0xb407ef0>]"
      ]
     },
     "execution_count": 307,
     "metadata": {},
     "output_type": "execute_result"
    },
    {
     "data": {
      "image/png": "[encoded data removed]",
      "text/plain": [
       "<matplotlib.figure.Figure at 0xddf93f0>"
      ]
     },
     "metadata": {},
     "output_type": "display_data"
    }
   ],
   "source": [
    "#es = list(map(sum, zip(pes, kes)))\n",
    "es = []\n",
    "for i in range(len(kes)):\n",
    "    \n",
    "    es.append(kes[i] + 1.171*pes[i])\n",
    "    \n",
    "    \n",
    "pyplot.plot(es)\n",
    "#print(list(zip(list(map(round,es)),list(map(round,kes)))))"
   ]
  },
  {
   "cell_type": "code",
   "execution_count": 308,
   "metadata": {
    "collapsed": false
   },
   "outputs": [
    {
     "data": {
      "image/png": "[encoded data removed]",
      "text/plain": [
       "<matplotlib.figure.Figure at 0xda65dd0>"
      ]
     },
     "metadata": {},
     "output_type": "display_data"
    }
   ],
   "source": [
    "pyplot.hist(vx_his);"
   ]
  },
  {
   "cell_type": "code",
   "execution_count": 313,
   "metadata": {
    "collapsed": false
   },
   "outputs": [
    {
     "ename": "NameError",
     "evalue": "name 'sqrt' is not defined",
     "output_type": "error",
     "traceback": [
      "\u001b[1;31m---------------------------------------------------------------------------\u001b[0m",
      "\u001b[1;31mNameError\u001b[0m                                 Traceback (most recent call last)",
      "\u001b[1;32m<ipython-input-313-f4a0344569ed>\u001b[0m in \u001b[0;36m<module>\u001b[1;34m()\u001b[0m\n\u001b[0;32m     10\u001b[0m \u001b[1;33m\u001b[0m\u001b[0m\n\u001b[0;32m     11\u001b[0m     \u001b[1;32mif\u001b[0m \u001b[1;33m(\u001b[0m\u001b[0mj\u001b[0m \u001b[1;33m<=\u001b[0m \u001b[1;36m5\u001b[0m\u001b[1;33m)\u001b[0m\u001b[1;33m:\u001b[0m\u001b[1;33m\u001b[0m\u001b[0m\n\u001b[1;32m---> 12\u001b[1;33m         \u001b[0mS\u001b[0m\u001b[1;33m.\u001b[0m\u001b[0mrescale\u001b[0m\u001b[1;33m(\u001b[0m\u001b[0mmath\u001b[0m\u001b[1;33m.\u001b[0m\u001b[0msqrt\u001b[0m\u001b[1;33m(\u001b[0m\u001b[0mtarget\u001b[0m\u001b[1;33m/\u001b[0m\u001b[1;33m(\u001b[0m\u001b[1;36m2\u001b[0m\u001b[1;33m*\u001b[0m\u001b[0mke\u001b[0m\u001b[1;33m)\u001b[0m\u001b[1;33m)\u001b[0m\u001b[1;33m)\u001b[0m\u001b[1;33m\u001b[0m\u001b[0m\n\u001b[0m\u001b[0;32m     13\u001b[0m \u001b[1;33m\u001b[0m\u001b[0m\n\u001b[0;32m     14\u001b[0m \u001b[1;33m\u001b[0m\u001b[0m\n",
      "\u001b[1;32m<ipython-input-305-abd8da52eb83>\u001b[0m in \u001b[0;36mrescale\u001b[1;34m(self, factor)\u001b[0m\n\u001b[0;32m    197\u001b[0m     \u001b[1;32mdef\u001b[0m \u001b[0mrescale\u001b[0m\u001b[1;33m(\u001b[0m\u001b[0mself\u001b[0m\u001b[1;33m,\u001b[0m \u001b[0mfactor\u001b[0m\u001b[1;33m)\u001b[0m\u001b[1;33m:\u001b[0m\u001b[1;33m\u001b[0m\u001b[0m\n\u001b[0;32m    198\u001b[0m         \u001b[1;32mfor\u001b[0m \u001b[0mp\u001b[0m \u001b[1;32min\u001b[0m \u001b[0mself\u001b[0m\u001b[1;33m.\u001b[0m\u001b[0mparticles\u001b[0m\u001b[1;33m:\u001b[0m\u001b[1;33m\u001b[0m\u001b[0m\n\u001b[1;32m--> 199\u001b[1;33m             \u001b[0mp\u001b[0m\u001b[1;33m.\u001b[0m\u001b[0mvx\u001b[0m \u001b[1;33m/=\u001b[0m \u001b[0msqrt\u001b[0m\u001b[1;33m(\u001b[0m\u001b[0mfactor\u001b[0m\u001b[1;33m)\u001b[0m\u001b[1;33m\u001b[0m\u001b[0m\n\u001b[0m\u001b[0;32m    200\u001b[0m             \u001b[0mp\u001b[0m\u001b[1;33m.\u001b[0m\u001b[0mvy\u001b[0m \u001b[1;33m/=\u001b[0m \u001b[0msqrt\u001b[0m\u001b[1;33m(\u001b[0m\u001b[0mfactor\u001b[0m\u001b[1;33m)\u001b[0m\u001b[1;33m\u001b[0m\u001b[0m\n\u001b[0;32m    201\u001b[0m \u001b[1;33m\u001b[0m\u001b[0m\n",
      "\u001b[1;31mNameError\u001b[0m: name 'sqrt' is not defined"
     ]
    }
   ],
   "source": [
    "S.init(StartConf.Confined, v0)\n",
    "nsteps = 50\n",
    "target = 4\n",
    "ts = []\n",
    "for j in range(10):\n",
    "    for i in range(nsteps):\n",
    "        S.evolve()\n",
    "        ke = S.kinetic_energy()\n",
    "        ts.append(2*ke*2)\n",
    "    \n",
    "    if (j <= 5):\n",
    "        S.rescale(math.sqrt(target/(2*ke)))\n",
    "    \n",
    "    \n",
    "        \n",
    "        \n",
    "        "
   ]
  },
  {
   "cell_type": "code",
   "execution_count": null,
   "metadata": {
    "collapsed": true
   },
   "outputs": [],
   "source": []
  },
  {
   "cell_type": "markdown",
   "metadata": {},
   "source": [
    "#### Challenge 4.1:\n",
    "\n",
    "Excercise 4.2, part 3)\n",
    "\n",
    "#### Challenge 4.2\n",
    "\n",
    "Excercise 4.3\n",
    "\n",
    "#### Challenge 4.3\n",
    "\n",
    "Excercise 4.4"
   ]
  },
  {
   "cell_type": "markdown",
   "metadata": {},
   "source": [
    "Evaluation of observables\n",
    "-------------------------\n",
    "\n",
    "In the previous exercises we have used the number of particles in the\n",
    "left side of the box, and the measure of the temperature $T$ to\n",
    "characterize the equilibrium of the system. Other parameter that can be\n",
    "used are the mean pressure $P$ and as well as the total energy $E$.\n",
    "\n",
    "Other thermal quantity is the heat capacity $C_{V}=(\\partial E/\\partial\n",
    "T)_{V}$. $C_{V}$ is a measure of the amount of heat needed to produce a\n",
    "change in the temperature. Since this is and extensive quantity (depends\n",
    "on the size of the system) it is convenient to use the specific heat $%\n",
    "c_{V}=C_{V}/N$ instead. The easiest way to obtain it is to determine the\n",
    "mean potential energies at neighboring temperatures $T$ and\n",
    "$T+\\Delta T$.\n",
    "\n",
    "An even easier alternative is to obtain it from the kinetic energy fluctuations using a formula due to Lebowitz,\n",
    "$$\n",
    "\\langle \\delta T^2 \\rangle= \\frac{2}{dN}\\left(1−\\frac{dN}{2 C_V} \\right) \n",
    "$$\n",
    "where $d$ is the dimensionality of the problem.\n",
    "\n",
    "In order to determine the mean pressure, suppose for a moment that the\n",
    "container has rigid walls. We know that the collisions of particles with\n",
    "the walls will cause a mean net force to be exerted on each element of\n",
    "the wall. The mean force per unit of area is the pressure $P$ of the\n",
    "gas. The force can be found by relating the force in the horizontal\n",
    "direction to the rate of change of the linear component of the linear\n",
    "momentum of the particles hitting the wall.\n",
    "\n",
    "We can use a similar argument to calculate the pressure in the absence\n",
    "of walls. Since the pressure is uniform at equilibrium, we can relate\n",
    "the pressure to the transfer of momentum across an element of area\n",
    "anywhere in the system. Consider an element of area $dA$ and let\n",
    "$\\mathbf{K}_{+}$ be the mean momentum crossing the surface per unit of\n",
    "time from left to right, and let $\\mathbf{K}_{-}$ be the mean momentum\n",
    "crossing the surface per unit of time from right to left. The the mean\n",
    "force $\\mathbf{F}$ is $$\\mathbf{F=K}_{+}\\mathbf{-K}_{-}$$ and the mean\n",
    "pressure is given by $$P=\\frac{dF_{\\alpha }}{dA}$$ where $F_{\\alpha }$\n",
    "is the component of the force normal to the element of area. (For two\n",
    "dimensions, the pressure is defined per unit of length) ** **\n",
    "\n",
    "An alternative way of calculating the pressure is from the virial\n",
    "theorem:\n",
    "$$PV=NkT+\\frac{1}{d}\\langle \\sum_i^N \\mathbf{r}_i \\cdot \\mathbf{F}_i \\rangle$$\n",
    "\n",
    "Finally the pair distribution function $g(r)$ is the probability that two atoms are separated by distance $r$. To find this function you can make a histogram of the values of $r_{ij}$ as a function of r with a histogram interval size $\\delta r = 0.1$ and count the number of atom pairs that lie in each interval.\n",
    "\n",
    "### Exercise 4.5: Equation of state of a non-ideal gas \n",
    "\n",
    "In this problem we compute the pressure and hence the “equation of\n",
    "state” (the relation between pressure, temperature and volume) of a gas\n",
    "\n",
    "1.  Consider $L_x=L_y=6,N=16$. Choose the initial configuration to be an\n",
    "    equilibrium configuration. Compute the mean pressure using the net\n",
    "    momentum transfer method and the virial theorem. Allow at least 100\n",
    "    time steps for equilibration and 200 to compute averages. Is the\n",
    "    pressure constant or fluctuates? How does the pressure compare with\n",
    "    the ideal gas result? Which method of computing the pressure is more\n",
    "    accurate?\n",
    "\n",
    "2.  An approximate equation of state for dense gases and liquids is the\n",
    "    “van der Waals” equation: $$P=kT\\frac{\\rho }{1-b\\rho }-a\\rho ^{2}.$$\n",
    "    The phenomenological parameters $a$ and $b$ are related to the\n",
    "    repulsive and attractive parts of the interaction respectively and\n",
    "    are approximately independent of the temperature.. Use the same\n",
    "    configuration to find the dependence of $P$ on $T$. Plot $P$ versus\n",
    "    $T$ and use the van der Waals equation to obtain an estimate for the\n",
    "    parameters $a$ and $b$.\n",
    "\n",
    "### Exercise 4.6: Ground state energy \n",
    "\n",
    "Although the use of periodic boundary conditions minimizes surface\n",
    "effects, it is also important to choose the symmetry of the central\n",
    "“unit cell” to be consistent with the symmetry of the solid phase of the\n",
    "system. This choice of cell is essential if we wish to do simulations of\n",
    "the high density, low-temperature behavior. We know that the equilibrium\n",
    "structure of a crystalline solid at $T=0$ is the configuration of lowest\n",
    "energy.\n",
    "\n",
    "1.  Consider a triangular lattice of with $L_x$ and height\n",
    "    $L_y=\\frac{\\sqrt{%\n",
    "    3}}{2}L_x$. Each column of the triangular lattice is separated by a\n",
    "    distance $%\n",
    "    a=L_x/n_{c}$ , where $n_{c}$ is the number of particles per row and\n",
    "    $%\n",
    "    N=n_{c}^{2}$. For a square lattice to have the same density, we have\n",
    "    to choose the linear dimension to be $L=\\sqrt{L_xL_y}$. Choose\n",
    "    $n_{c}=6$ and determine the energy for each lattice using the\n",
    "    Lennard-Jones potential. Use $L_x=5$ and $7$. What is the density of\n",
    "    the system for each case? Are your results for $E/N$ independent of\n",
    "    the since of the lattice? Which lattice has lower energy? Why?\n",
    "\n",
    "2.  Consider $n_{c}=6$ and $L_x=10,20,$ and $2^{1/6}n_{c}$. Which\n",
    "    lattice structure has lowest energy in each case? In all these cases\n",
    "    the net force on a particle is zero. Why? The latter density\n",
    "    correspond to the case where the force between nearest neighbors\n",
    "    is zero. Convince yourself that at this density the lattice is\n",
    "    unstable, since the force on any particle which deviates from its\n",
    "    equilibrium position in the lattice is negative. Consequently, the\n",
    "    system will collapse to a higher density, where the triangular\n",
    "    lattice is always favored.\n",
    "\n",
    "3.  Repeat the previous calculations for $V(r)=1/r^{6}$ and $1/r^{4}$.\n",
    "    Is the triangular lattice still favored?\n",
    "\n",
    "### Exercise 4.7: The solid state and melting \n",
    "\n",
    "1.  Choose the parameters $N=16$, $\\Delta t=0.01$, $L_x=4$, and\n",
    "    $L_y=2\\sqrt{%\n",
    "    3}$. Place the particles on a triangular lattice which fills the\n",
    "    container and give each particle initial zero velocity. Measure the\n",
    "    temperature and pressure as a function of time and plot several\n",
    "    “snapshots” of the system. What is the total energy of the system?\n",
    "    Does it remain a solid?\n",
    "\n",
    "2.  Give the particles a random initial velocity with $v_{\\max }=0.1$.\n",
    "    What is the total energy? Equilibrate the system for approximately\n",
    "    50 time steps and average the pressure and temperature over 100\n",
    "    time steps.\n",
    "\n",
    "3.  Pick an equilibrium configuration from the previous item and rescale\n",
    "    all velocities by a factor 2. What is the new total energy? Take\n",
    "    snapshots of the system every 25 time steps and describe the\n",
    "    behavior of the motion of the particles. What is the equilibrium\n",
    "    temperature and pressure of the system? After equilibrium is\n",
    "    reached, rescale the velocities again in the same way. repeat this\n",
    "    rescaling and measure $P(T)$ and $E(T)$ for size\n",
    "    different temperatures.\n",
    "\n",
    "4.  Plot $E(T)-E(0)$ and the pressure $P(T)$ as a function of $T$. What\n",
    "    is the dependence of difference $\\Delta E$ with $T$?\n",
    "\n",
    "5.  Decrease the density by multiplying $L_x$, $L_y$ , and the particle\n",
    "    coordinates by a factor $1.1$. What are your results for temperature\n",
    "    and pressure? What is the nature of the snapshots? Continue\n",
    "    rescaling the density and the positions until the system “melts”.\n",
    "    What is your qualitative criterion for melting?\n",
    "\n",
    "Simple transport properties\n",
    "---------------------------\n",
    "\n",
    "Suppose that we follow the trajectory of a particle and we determine its\n",
    "displacement $\\mathbf{r}_{i}(t_{2})-\\mathbf{r}_{i}(t_{1})$. We know that\n",
    "if the particle suffers zero net force, this displacement will increase\n",
    "linearly. However, a particle in a fluid undergoes collisions and on the\n",
    "average its net displacement will be zero. A more interesting quantity\n",
    "is the mean square displacement $R(t)^{2}$ defined by\n",
    "$$R(t)^{2}=\\langle \\left| \\mathbf{r}_{i}(t_{2})-\\mathbf{r}_{i}(t_{1})\\right|^2\n",
    "\\rangle ,  $$ where $t=t_{2}-t_{1}$ and we have averaged over\n",
    "all particles. Since the system is at equilibrium, this quantity depends\n",
    "only on the time difference. According to Einstein relation\n",
    "$$R(t)^{2}=2dDt\\,\\,\\,\\,\\,\\,\\,\\,\\,\\,\\,\\,\\,\\,\\,(t\\rightarrow \\infty )$$\n",
    "where $D$ is the “self-diffusion constant”.\n",
    "\n",
    "Another single -particle property is the “velocity autocorrelation\n",
    "function” $Z(t)$. Suppose that a particle has velocity $\\mathbf{v}%\n",
    "_{i}(t_{1})$ at time $t_{1}$. If it suffers zero net force, its velocity\n",
    "will remain constant, and hence, its velocity at a later time will\n",
    "remain “correlated” with its initial velocity. However, the interactions\n",
    "with the other particles in the fluid will alter its velocity, and we\n",
    "expect that after some time its velocity will no longer be strongly\n",
    "correlated. Hence, we define $Z(t)$ as\n",
    "\n",
    "$$Z(t)=\\langle \\mathbf{v}_{i}(t_{2})\\cdot \\mathbf{v}_{i}(t_{1})\\rangle$$\n",
    "where $t=t_{2}-t_{1}$. If we define the self-diffusion constant $D$ by\n",
    "relation (\\[r2\\]), it can be shown that $D$ is related to $Z(t)$ by\n",
    "$$D=\\frac{1}{d}\\int_{-\\infty }^{+\\infty }Z(t)dt.$$ This relation is an\n",
    "example of a general relation between transport coefficients such as\n",
    "viscosity and thermal conductivity and autocorrelation functions.\n",
    "\n",
    "How complicated can it get?\n",
    "--------------------------------\n",
    "\n",
    "-  More sophisticated temperature adjustments such as the Berendsen thermostat and Nose-Hoover thermostat.\n",
    "\n",
    "-   \"Rotating ice cube\" problem\n",
    "\n",
    "-   External fields\n",
    "\n",
    "-   Plasma\n",
    "\n",
    "-   Three dimensions\n",
    "\n",
    "-   Complicated geometries\n",
    "\n",
    "-   Different types of particles\n",
    "\n",
    "-   Internal degrees of freedom (rotations)\n",
    "\n",
    "-   Quantum mechanics\n",
    "\n",
    "-   Parallelization"
   ]
  },
  {
   "cell_type": "code",
   "execution_count": null,
   "metadata": {
    "collapsed": true
   },
   "outputs": [],
   "source": []
  },
  {
   "cell_type": "code",
   "execution_count": null,
   "metadata": {
    "collapsed": true
   },
   "outputs": [],
   "source": []
  },
  {
   "cell_type": "code",
   "execution_count": null,
   "metadata": {
    "collapsed": true
   },
   "outputs": [],
   "source": []
  },
  {
   "cell_type": "code",
   "execution_count": null,
   "metadata": {
    "collapsed": true
   },
   "outputs": [],
   "source": []
  }
 ],
 "metadata": {
  "kernelspec": {
   "display_name": "Python 3",
   "language": "python",
   "name": "python3"
  },
  "language_info": {
   "codemirror_mode": {
    "name": "ipython",
    "version": 3
   },
   "file_extension": ".py",
   "mimetype": "text/x-python",
   "name": "python",
   "nbconvert_exporter": "python",
   "pygments_lexer": "ipython3",
   "version": "3.4.3"
  }
 },
 "nbformat": 4,
 "nbformat_minor": 0
}
